{
 "cells": [
  {
   "cell_type": "code",
   "execution_count": 3,
   "id": "a4b18731-32ce-4fd4-bfa8-2d6da7841ed5",
   "metadata": {},
   "outputs": [
    {
     "name": "stdout",
     "output_type": "stream",
     "text": [
      "hello world\n",
      "good mroning!!!!!\n"
     ]
    }
   ],
   "source": [
    "print(\"hello world\")\n",
    "print(\"good mroning!!!!!\")\n"
   ]
  },
  {
   "cell_type": "code",
   "execution_count": null,
   "id": "a0217c00",
   "metadata": {},
   "outputs": [],
   "source": [
    "import snowflake"
   ]
  },
  {
   "cell_type": "code",
   "execution_count": 2,
   "id": "1df96d52",
   "metadata": {},
   "outputs": [],
   "source": [
    "import pandas as pd"
   ]
  },
  {
   "cell_type": "code",
   "execution_count": 3,
   "id": "71d6f78d-ae12-4e36-948b-8e83666ac79f",
   "metadata": {},
   "outputs": [
    {
     "name": "stdout",
     "output_type": "stream",
     "text": [
      "Requirement already satisfied: cryptocompare in /opt/anaconda3/lib/python3.11/site-packages (0.7.6)\n",
      "Requirement already satisfied: requests in /opt/anaconda3/lib/python3.11/site-packages (from cryptocompare) (2.31.0)\n",
      "Requirement already satisfied: charset-normalizer<4,>=2 in /opt/anaconda3/lib/python3.11/site-packages (from requests->cryptocompare) (2.0.4)\n",
      "Requirement already satisfied: idna<4,>=2.5 in /opt/anaconda3/lib/python3.11/site-packages (from requests->cryptocompare) (3.4)\n",
      "Requirement already satisfied: urllib3<3,>=1.21.1 in /opt/anaconda3/lib/python3.11/site-packages (from requests->cryptocompare) (2.0.7)\n",
      "Requirement already satisfied: certifi>=2017.4.17 in /opt/anaconda3/lib/python3.11/site-packages (from requests->cryptocompare) (2024.2.2)\n",
      "Note: you may need to restart the kernel to use updated packages.\n"
     ]
    }
   ],
   "source": [
    "pip install cryptocompare"
   ]
  },
  {
   "cell_type": "code",
   "execution_count": 4,
   "id": "1017b0f6-44dc-4aad-8257-5139f540c1c2",
   "metadata": {},
   "outputs": [],
   "source": [
    "import cryptocompare as cy"
   ]
  },
  {
   "cell_type": "markdown",
   "id": "82ab7fba",
   "metadata": {},
   "source": [
    "# Author\n",
    "\n",
    "- Yucheng Liu <yc.yuchengliu@gmail.com>"
   ]
  },
  {
   "cell_type": "markdown",
   "id": "a7ef3bb9",
   "metadata": {},
   "source": [
    "### Question 7\n",
    "\n",
    "Find a source of crypto prices online. Extract the price data and write a script that generates a corresponding table. Use the table to provide a time series for:\n",
    "\n",
    "a. The dollar value of all crypto assets in user accounts, i.e. what is the total value held in all wallets as a function of time.\n",
    "\n",
    "b. The dollar value of assets flows in and out of user accounts, i.e. what is the net flow of value into or out of all accounts in aggregate."
   ]
  },
  {
   "cell_type": "code",
   "execution_count": 2,
   "id": "9c6ade2e-fcb3-4068-85a8-d5516066bf2d",
   "metadata": {},
   "outputs": [
    {
     "ename": "NameError",
     "evalue": "name 'cy' is not defined",
     "output_type": "error",
     "traceback": [
      "\u001b[0;31m---------------------------------------------------------------------------\u001b[0m",
      "\u001b[0;31mNameError\u001b[0m                                 Traceback (most recent call last)",
      "Cell \u001b[0;32mIn[2], line 3\u001b[0m\n\u001b[1;32m      1\u001b[0m KEY \u001b[38;5;241m=\u001b[39m \u001b[38;5;124m'\u001b[39m\u001b[38;5;124m639ef0f8b451f07328392747b6b25ea2dc79e27c2ea163d4ee60491198aa3ee6\u001b[39m\u001b[38;5;124m'\u001b[39m\n\u001b[0;32m----> 3\u001b[0m \u001b[43mcy\u001b[49m\u001b[38;5;241m.\u001b[39mcryptocompare\u001b[38;5;241m.\u001b[39m_set_api_key_parameter(KEY)\n",
      "\u001b[0;31mNameError\u001b[0m: name 'cy' is not defined"
     ]
    }
   ],
   "source": [
    "KEY = '639ef0f8b451f07328392747b6b25ea2dc79e27c2ea163d4ee60491198aa3ee6'\n",
    "\n",
    "cy.cryptocompare._set_api_key_parameter(KEY)\n"
   ]
  },
  {
   "cell_type": "code",
   "execution_count": 7,
   "id": "8bee1d63-bb50-47cf-b54a-b9c212234c29",
   "metadata": {},
   "outputs": [
    {
     "data": {
      "text/plain": [
       "{'BTC': {'USD': 59211.99}}"
      ]
     },
     "execution_count": 7,
     "metadata": {},
     "output_type": "execute_result"
    }
   ],
   "source": [
    "cy.get_price('BTC', currency='USD')\n"
   ]
  },
  {
   "cell_type": "code",
   "execution_count": null,
   "id": "7b0825a9-15a8-4151-9086-36808e6ef405",
   "metadata": {},
   "outputs": [],
   "source": []
  }
 ],
 "metadata": {
  "kernelspec": {
   "display_name": "Python 3",
   "language": "python",
   "name": "python3"
  },
  "language_info": {
   "codemirror_mode": {
    "name": "ipython",
    "version": 3
   },
   "file_extension": ".py",
   "mimetype": "text/x-python",
   "name": "python",
   "nbconvert_exporter": "python",
   "pygments_lexer": "ipython3",
   "version": "3.9.6"
  }
 },
 "nbformat": 4,
 "nbformat_minor": 5
}
