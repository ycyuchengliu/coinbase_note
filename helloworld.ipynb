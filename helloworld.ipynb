{
 "cells": [
  {
   "cell_type": "code",
   "execution_count": 3,
   "id": "a4b18731-32ce-4fd4-bfa8-2d6da7841ed5",
   "metadata": {},
   "outputs": [
    {
     "name": "stdout",
     "output_type": "stream",
     "text": [
      "hello world\n",
      "good mroning!!!!!\n"
     ]
    }
   ],
   "source": [
    "print(\"hello world\")\n",
    "print(\"good mroning!!!!!\")\n"
   ]
  },
  {
   "cell_type": "markdown",
   "id": "4970e72c",
   "metadata": {},
   "source": [
    "# Coinbase Data Analyst Take Home Exam"
   ]
  },
  {
   "cell_type": "markdown",
   "id": "82ab7fba",
   "metadata": {},
   "source": [
    "- Yucheng Liu: <yc.yuchengliu@gmail.com>\n",
    "- October 2024"
   ]
  },
  {
   "cell_type": "markdown",
   "id": "3c807fff",
   "metadata": {},
   "source": [
    "## Abstract\n",
    "This project demonstrates key technical skills needed for a data analyst role at Coinbase Internal Audit. I utilized Snowflake (TBD add connector link) SQL to analyze datasets by joining and aggregating provided tables. Additionally, I used Python in Jupyter Notebook with libraries such as Pandas for data manipulation, and scatter plots to explore correlations in the data. I also integrated the [CryptoCompare API](https://pypi.org/project/cryptocompare/) to retrieve real-time cryptocurrency prices."
   ]
  },
  {
   "cell_type": "markdown",
   "id": "dc76ab46",
   "metadata": {},
   "source": [
    "## Github Repo\n",
    "\n",
    "In addition to this notebook, the project is also available in my repo. Please use the links below.\n",
    "- [Notebook tbd](xxx)\n",
    "- [SQL tbd](xxx)"
   ]
  },
  {
   "cell_type": "markdown",
   "id": "121122b1",
   "metadata": {},
   "source": [
    "## Datasets Used\n",
    "\n",
    "In this project, we use three distinct csv files containing data for the following:\n",
    "- **Users**, including an id, date the user signed up, and their risk score (a number assigned by our internal risk model).\n",
    "- **Accounts** for those users, including the date the account was created, and currency.\n",
    "- **Ledger** Entries for these accounts; these are single-entry, indicating the date and amount by which the account changed."
   ]
  },
  {
   "cell_type": "markdown",
   "id": "f5d42a60",
   "metadata": {},
   "source": [
    "#### Import Libraries"
   ]
  },
  {
   "cell_type": "code",
   "execution_count": 34,
   "id": "513e1e1e",
   "metadata": {},
   "outputs": [
    {
     "name": "stderr",
     "output_type": "stream",
     "text": [
      "9108.07s - pydevd: Sending message related to process being replaced timed-out after 5 seconds\n"
     ]
    },
    {
     "name": "stdout",
     "output_type": "stream",
     "text": [
      "Requirement already satisfied: pandas in /opt/anaconda3/lib/python3.11/site-packages (2.1.4)\n",
      "Requirement already satisfied: numpy<2,>=1.23.2 in /opt/anaconda3/lib/python3.11/site-packages (from pandas) (1.26.4)\n",
      "Requirement already satisfied: python-dateutil>=2.8.2 in /opt/anaconda3/lib/python3.11/site-packages (from pandas) (2.8.2)\n",
      "Requirement already satisfied: pytz>=2020.1 in /opt/anaconda3/lib/python3.11/site-packages (from pandas) (2023.3.post1)\n",
      "Requirement already satisfied: tzdata>=2022.1 in /opt/anaconda3/lib/python3.11/site-packages (from pandas) (2023.3)\n",
      "Requirement already satisfied: six>=1.5 in /opt/anaconda3/lib/python3.11/site-packages (from python-dateutil>=2.8.2->pandas) (1.16.0)\n"
     ]
    },
    {
     "name": "stderr",
     "output_type": "stream",
     "text": [
      "9115.68s - pydevd: Sending message related to process being replaced timed-out after 5 seconds\n"
     ]
    },
    {
     "name": "stdout",
     "output_type": "stream",
     "text": [
      "Requirement already satisfied: matplotlib in /opt/anaconda3/lib/python3.11/site-packages (3.8.0)\n",
      "Requirement already satisfied: contourpy>=1.0.1 in /opt/anaconda3/lib/python3.11/site-packages (from matplotlib) (1.2.0)\n",
      "Requirement already satisfied: cycler>=0.10 in /opt/anaconda3/lib/python3.11/site-packages (from matplotlib) (0.11.0)\n",
      "Requirement already satisfied: fonttools>=4.22.0 in /opt/anaconda3/lib/python3.11/site-packages (from matplotlib) (4.25.0)\n",
      "Requirement already satisfied: kiwisolver>=1.0.1 in /opt/anaconda3/lib/python3.11/site-packages (from matplotlib) (1.4.4)\n",
      "Requirement already satisfied: numpy<2,>=1.21 in /opt/anaconda3/lib/python3.11/site-packages (from matplotlib) (1.26.4)\n",
      "Requirement already satisfied: packaging>=20.0 in /opt/anaconda3/lib/python3.11/site-packages (from matplotlib) (23.1)\n",
      "Requirement already satisfied: pillow>=6.2.0 in /opt/anaconda3/lib/python3.11/site-packages (from matplotlib) (10.2.0)\n",
      "Requirement already satisfied: pyparsing>=2.3.1 in /opt/anaconda3/lib/python3.11/site-packages (from matplotlib) (3.0.9)\n",
      "Requirement already satisfied: python-dateutil>=2.7 in /opt/anaconda3/lib/python3.11/site-packages (from matplotlib) (2.8.2)\n",
      "Requirement already satisfied: six>=1.5 in /opt/anaconda3/lib/python3.11/site-packages (from python-dateutil>=2.7->matplotlib) (1.16.0)\n"
     ]
    },
    {
     "name": "stderr",
     "output_type": "stream",
     "text": [
      "9123.22s - pydevd: Sending message related to process being replaced timed-out after 5 seconds\n"
     ]
    },
    {
     "name": "stdout",
     "output_type": "stream",
     "text": [
      "Requirement already satisfied: cryptocompare in /opt/anaconda3/lib/python3.11/site-packages (0.7.6)\n",
      "Requirement already satisfied: requests in /opt/anaconda3/lib/python3.11/site-packages (from cryptocompare) (2.31.0)\n",
      "Requirement already satisfied: charset-normalizer<4,>=2 in /opt/anaconda3/lib/python3.11/site-packages (from requests->cryptocompare) (2.0.4)\n",
      "Requirement already satisfied: idna<4,>=2.5 in /opt/anaconda3/lib/python3.11/site-packages (from requests->cryptocompare) (3.4)\n",
      "Requirement already satisfied: urllib3<3,>=1.21.1 in /opt/anaconda3/lib/python3.11/site-packages (from requests->cryptocompare) (2.0.7)\n",
      "Requirement already satisfied: certifi>=2017.4.17 in /opt/anaconda3/lib/python3.11/site-packages (from requests->cryptocompare) (2024.2.2)\n"
     ]
    }
   ],
   "source": [
    "!pip install pandas\n",
    "!pip install matplotlib\n",
    "!pip install cryptocompare"
   ]
  },
  {
   "cell_type": "code",
   "execution_count": 1,
   "id": "0c1ec4cb",
   "metadata": {},
   "outputs": [
    {
     "name": "stdout",
     "output_type": "stream",
     "text": [
      "Defaulting to user installation because normal site-packages is not writeable\n",
      "Requirement already satisfied: snowflake-connector-python in /Users/yuchengliu/Library/Python/3.9/lib/python/site-packages (3.12.2)\n",
      "Requirement already satisfied: platformdirs<5.0.0,>=2.6.0 in /Users/yuchengliu/Library/Python/3.9/lib/python/site-packages (from snowflake-connector-python) (4.2.2)\n",
      "Requirement already satisfied: asn1crypto<2.0.0,>0.24.0 in /Users/yuchengliu/Library/Python/3.9/lib/python/site-packages (from snowflake-connector-python) (1.5.1)\n",
      "Requirement already satisfied: pytz in /Users/yuchengliu/Library/Python/3.9/lib/python/site-packages (from snowflake-connector-python) (2024.1)\n",
      "Requirement already satisfied: idna<4,>=2.5 in /Users/yuchengliu/Library/Python/3.9/lib/python/site-packages (from snowflake-connector-python) (3.8)\n",
      "Requirement already satisfied: cryptography>=3.1.0 in /Users/yuchengliu/Library/Python/3.9/lib/python/site-packages (from snowflake-connector-python) (43.0.1)\n",
      "Requirement already satisfied: sortedcontainers>=2.4.0 in /Users/yuchengliu/Library/Python/3.9/lib/python/site-packages (from snowflake-connector-python) (2.4.0)\n",
      "Requirement already satisfied: filelock<4,>=3.5 in /Users/yuchengliu/Library/Python/3.9/lib/python/site-packages (from snowflake-connector-python) (3.16.1)\n",
      "Requirement already satisfied: pyjwt<3.0.0 in /Users/yuchengliu/Library/Python/3.9/lib/python/site-packages (from snowflake-connector-python) (2.9.0)\n",
      "Requirement already satisfied: requests<3.0.0 in /Users/yuchengliu/Library/Python/3.9/lib/python/site-packages (from snowflake-connector-python) (2.32.3)\n",
      "Requirement already satisfied: urllib3<2.0.0,>=1.21.1 in /Users/yuchengliu/Library/Python/3.9/lib/python/site-packages (from snowflake-connector-python) (1.26.20)\n",
      "Requirement already satisfied: cffi<2.0.0,>=1.9 in /Users/yuchengliu/Library/Python/3.9/lib/python/site-packages (from snowflake-connector-python) (1.17.1)\n",
      "Requirement already satisfied: tomlkit in /Users/yuchengliu/Library/Python/3.9/lib/python/site-packages (from snowflake-connector-python) (0.13.2)\n",
      "Requirement already satisfied: certifi>=2017.4.17 in /Users/yuchengliu/Library/Python/3.9/lib/python/site-packages (from snowflake-connector-python) (2024.8.30)\n",
      "Requirement already satisfied: typing-extensions<5,>=4.3 in /Users/yuchengliu/Library/Python/3.9/lib/python/site-packages (from snowflake-connector-python) (4.12.2)\n",
      "Requirement already satisfied: charset-normalizer<4,>=2 in /Users/yuchengliu/Library/Python/3.9/lib/python/site-packages (from snowflake-connector-python) (3.3.2)\n",
      "Requirement already satisfied: pyOpenSSL<25.0.0,>=16.2.0 in /Users/yuchengliu/Library/Python/3.9/lib/python/site-packages (from snowflake-connector-python) (24.2.1)\n",
      "Requirement already satisfied: packaging in /Users/yuchengliu/Library/Python/3.9/lib/python/site-packages (from snowflake-connector-python) (24.1)\n",
      "Requirement already satisfied: pycparser in /Users/yuchengliu/Library/Python/3.9/lib/python/site-packages (from cffi<2.0.0,>=1.9->snowflake-connector-python) (2.22)\n",
      "\u001b[33mWARNING: You are using pip version 21.2.4; however, version 24.2 is available.\n",
      "You should consider upgrading via the '/Library/Developer/CommandLineTools/usr/bin/python3 -m pip install --upgrade pip' command.\u001b[0m\n",
      "Note: you may need to restart the kernel to use updated packages.\n"
     ]
    }
   ],
   "source": [
    "pip install snowflake-connector-python"
   ]
  },
  {
   "cell_type": "code",
   "execution_count": 6,
   "id": "c5b41229",
   "metadata": {},
   "outputs": [],
   "source": [
    "import pandas as pd\n",
    "import os\n",
    "import getpass\n",
    "import snowflake.connector\n",
    "#import matplotlib.pyplot as plt\n",
    "#import cryptocompare as cy"
   ]
  },
  {
   "cell_type": "code",
   "execution_count": 7,
   "id": "dd5e6cc8",
   "metadata": {},
   "outputs": [
    {
     "data": {
      "text/plain": [
       "<snowflake.connector.cursor.SnowflakeCursor at 0x120698ca0>"
      ]
     },
     "execution_count": 7,
     "metadata": {},
     "output_type": "execute_result"
    }
   ],
   "source": [
    "sf_pw = input('Enter Password:')\n",
    "\n",
    "con = snowflake.connector.connect(\n",
    "    user = 'yuchengliu',\n",
    "    password = sf_pw,\n",
    "    account = 'ed01722.us-east4.gcp',\n",
    "    warehouse = 'COMPUTE_WH'\n",
    ")\n",
    "con.cursor()"
   ]
  },
  {
   "cell_type": "markdown",
   "id": "bfe2c512",
   "metadata": {},
   "source": [
    "### Question 1  \n",
    "Draw an entity-relationship diagram for the data. Indicate the cardinality of the relationships."
   ]
  },
  {
   "cell_type": "markdown",
   "id": "34d9bbfc",
   "metadata": {},
   "source": [
    "![title](t2.png)\n"
   ]
  },
  {
   "cell_type": "markdown",
   "id": "e99b306f",
   "metadata": {},
   "source": [
    "### Question 3\n",
    "Calculate and plot the following distributions"
   ]
  },
  {
   "cell_type": "markdown",
   "id": "b4a018c9",
   "metadata": {},
   "source": [
    "a. Number of accounts per user"
   ]
  },
  {
   "cell_type": "code",
   "execution_count": 10,
   "id": "f99b97d7",
   "metadata": {},
   "outputs": [
    {
     "name": "stderr",
     "output_type": "stream",
     "text": [
      "/var/folders/4l/t9877gg17j99nd_pc56r_pq40000gn/T/ipykernel_18653/16219907.py:15: UserWarning: pandas only supports SQLAlchemy connectable (engine/connection) or database string URI or sqlite3 DBAPI2 connection. Other DBAPI2 objects are not tested. Please consider using SQLAlchemy.\n",
      "  sql_out = pd.read_sql(sql, con)\n"
     ]
    },
    {
     "data": {
      "text/plain": [
       "1000"
      ]
     },
     "execution_count": 10,
     "metadata": {},
     "output_type": "execute_result"
    }
   ],
   "source": [
    "sql = f\"\"\"\n",
    "        SELECT \n",
    "            u.user_id,\n",
    "            COUNT(a.account_id) AS number_of_accounts\n",
    "        FROM \n",
    "            COINBASE.PUBLIC.USERS u\n",
    "        LEFT JOIN \n",
    "            COINBASE.PUBLIC.ACCOUNTS a ON u.user_id = a.user_id\n",
    "        GROUP BY \n",
    "            1\n",
    "        ORDER BY \n",
    "            number_of_accounts DESC;\n",
    "\"\"\"\n",
    "\n",
    "sql_out = pd.read_sql(sql, con)\n",
    "len(sql_out)"
   ]
  },
  {
   "cell_type": "markdown",
   "id": "a7ef3bb9",
   "metadata": {},
   "source": [
    "### Question 7\n",
    " \n",
    "Find a source of crypto prices online. Extract the price data and write a script that generates a corresponding table. Use the table to provide a time series for:\n",
    "\n",
    "- The dollar value of all crypto assets in user accounts, i.e. what is the total value held in all wallets as a function of time.\n",
    "- The dollar value of assets flows in and out of user accounts, i.e. what is the net flow of value into or out of all accounts in aggregate."
   ]
  },
  {
   "cell_type": "code",
   "execution_count": 2,
   "id": "9c6ade2e-fcb3-4068-85a8-d5516066bf2d",
   "metadata": {},
   "outputs": [
    {
     "ename": "NameError",
     "evalue": "name 'cy' is not defined",
     "output_type": "error",
     "traceback": [
      "\u001b[0;31m---------------------------------------------------------------------------\u001b[0m",
      "\u001b[0;31mNameError\u001b[0m                                 Traceback (most recent call last)",
      "Cell \u001b[0;32mIn[2], line 3\u001b[0m\n\u001b[1;32m      1\u001b[0m KEY \u001b[38;5;241m=\u001b[39m \u001b[38;5;124m'\u001b[39m\u001b[38;5;124m639ef0f8b451f07328392747b6b25ea2dc79e27c2ea163d4ee60491198aa3ee6\u001b[39m\u001b[38;5;124m'\u001b[39m\n\u001b[0;32m----> 3\u001b[0m \u001b[43mcy\u001b[49m\u001b[38;5;241m.\u001b[39mcryptocompare\u001b[38;5;241m.\u001b[39m_set_api_key_parameter(KEY)\n",
      "\u001b[0;31mNameError\u001b[0m: name 'cy' is not defined"
     ]
    }
   ],
   "source": [
    "KEY = '639ef0f8b451f07328392747b6b25ea2dc79e27c2ea163d4ee60491198aa3ee6'\n",
    "\n",
    "cy.cryptocompare._set_api_key_parameter(KEY)\n"
   ]
  },
  {
   "cell_type": "code",
   "execution_count": 7,
   "id": "8bee1d63-bb50-47cf-b54a-b9c212234c29",
   "metadata": {},
   "outputs": [
    {
     "data": {
      "text/plain": [
       "{'BTC': {'USD': 59211.99}}"
      ]
     },
     "execution_count": 7,
     "metadata": {},
     "output_type": "execute_result"
    }
   ],
   "source": [
    "cy.get_price('BTC', currency='USD')\n"
   ]
  },
  {
   "cell_type": "code",
   "execution_count": null,
   "id": "7b0825a9-15a8-4151-9086-36808e6ef405",
   "metadata": {},
   "outputs": [],
   "source": []
  }
 ],
 "metadata": {
  "kernelspec": {
   "display_name": "Python 3",
   "language": "python",
   "name": "python3"
  },
  "language_info": {
   "codemirror_mode": {
    "name": "ipython",
    "version": 3
   },
   "file_extension": ".py",
   "mimetype": "text/x-python",
   "name": "python",
   "nbconvert_exporter": "python",
   "pygments_lexer": "ipython3",
   "version": "3.9.6"
  }
 },
 "nbformat": 4,
 "nbformat_minor": 5
}
