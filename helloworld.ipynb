{
 "cells": [
  {
   "cell_type": "code",
   "execution_count": 1,
   "id": "a4b18731-32ce-4fd4-bfa8-2d6da7841ed5",
   "metadata": {},
   "outputs": [
    {
     "name": "stdout",
     "output_type": "stream",
     "text": [
      "hello world\n"
     ]
    }
   ],
   "source": [
    "print(\"hello world\")\n",
    "print(\"good mroning!\")"
   ]
  },
  {
   "cell_type": "code",
   "execution_count": 2,
   "id": "1df96d52",
   "metadata": {},
   "outputs": [],
   "source": [
    "import pandas as pd"
   ]
  },
  {
   "cell_type": "code",
   "execution_count": 3,
   "id": "71d6f78d-ae12-4e36-948b-8e83666ac79f",
   "metadata": {},
   "outputs": [
    {
     "name": "stdout",
     "output_type": "stream",
     "text": [
      "Requirement already satisfied: cryptocompare in /opt/anaconda3/lib/python3.11/site-packages (0.7.6)\n",
      "Requirement already satisfied: requests in /opt/anaconda3/lib/python3.11/site-packages (from cryptocompare) (2.31.0)\n",
      "Requirement already satisfied: charset-normalizer<4,>=2 in /opt/anaconda3/lib/python3.11/site-packages (from requests->cryptocompare) (2.0.4)\n",
      "Requirement already satisfied: idna<4,>=2.5 in /opt/anaconda3/lib/python3.11/site-packages (from requests->cryptocompare) (3.4)\n",
      "Requirement already satisfied: urllib3<3,>=1.21.1 in /opt/anaconda3/lib/python3.11/site-packages (from requests->cryptocompare) (2.0.7)\n",
      "Requirement already satisfied: certifi>=2017.4.17 in /opt/anaconda3/lib/python3.11/site-packages (from requests->cryptocompare) (2024.2.2)\n",
      "Note: you may need to restart the kernel to use updated packages.\n"
     ]
    }
   ],
   "source": [
    "pip install cryptocompare"
   ]
  },
  {
   "cell_type": "code",
   "execution_count": 4,
   "id": "1017b0f6-44dc-4aad-8257-5139f540c1c2",
   "metadata": {},
   "outputs": [],
   "source": [
    "import cryptocompare as cy"
   ]
  },
  {
   "cell_type": "code",
   "execution_count": 5,
   "id": "9c6ade2e-fcb3-4068-85a8-d5516066bf2d",
   "metadata": {},
   "outputs": [
    {
     "data": {
      "text/plain": [
       "'&api_key=639ef0f8b451f07328392747b6b25ea2dc79e27c2ea163d4ee60491198aa3ee6'"
      ]
     },
     "execution_count": 5,
     "metadata": {},
     "output_type": "execute_result"
    }
   ],
   "source": [
    "KEY = '639ef0f8b451f07328392747b6b25ea2dc79e27c2ea163d4ee60491198aa3ee6'\n",
    "\n",
    "cy.cryptocompare._set_api_key_parameter(KEY)\n"
   ]
  },
  {
   "cell_type": "code",
   "execution_count": 7,
   "id": "8bee1d63-bb50-47cf-b54a-b9c212234c29",
   "metadata": {},
   "outputs": [
    {
     "data": {
      "text/plain": [
       "{'BTC': {'USD': 59211.99}}"
      ]
     },
     "execution_count": 7,
     "metadata": {},
     "output_type": "execute_result"
    }
   ],
   "source": [
    "cy.get_price('BTC', currency='USD')\n"
   ]
  },
  {
   "cell_type": "code",
   "execution_count": null,
   "id": "7b0825a9-15a8-4151-9086-36808e6ef405",
   "metadata": {},
   "outputs": [],
   "source": []
  }
 ],
 "metadata": {
  "kernelspec": {
   "display_name": "Python 3 (ipykernel)",
   "language": "python",
   "name": "python3"
  },
  "language_info": {
   "codemirror_mode": {
    "name": "ipython",
    "version": 3
   },
   "file_extension": ".py",
   "mimetype": "text/x-python",
   "name": "python",
   "nbconvert_exporter": "python",
   "pygments_lexer": "ipython3",
   "version": "3.11.7"
  }
 },
 "nbformat": 4,
 "nbformat_minor": 5
}
