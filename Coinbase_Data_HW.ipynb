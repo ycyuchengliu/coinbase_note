{
 "cells": [
  {
   "cell_type": "code",
   "execution_count": 1,
   "id": "a4b18731-32ce-4fd4-bfa8-2d6da7841ed5",
   "metadata": {},
   "outputs": [
    {
     "name": "stdout",
     "output_type": "stream",
     "text": [
      "hello world\n",
      "good mroning!!!!!!ß\n"
     ]
    }
   ],
   "source": [
    "print(\"hello world\")\n",
    "print(\"good mroning!!!!!!ß\")"
   ]
  },
  {
   "cell_type": "markdown",
   "id": "4970e72c",
   "metadata": {},
   "source": [
    "# Coinbase Data Analyst Take Home Exam"
   ]
  },
  {
   "cell_type": "markdown",
   "id": "82ab7fba",
   "metadata": {},
   "source": [
    "- Yucheng Liu: <yc.yuchengliu@gmail.com>\n",
    "- October 2024"
   ]
  },
  {
   "cell_type": "markdown",
   "id": "3c807fff",
   "metadata": {},
   "source": [
    "## Abstract\n",
    "This project demonstrates key technical skills needed for a data analyst role at Coinbase Internal Audit. I utilized Snowflake (TBD add connector link) SQL to analyze datasets by joining and aggregating provided tables. Additionally, I used Python in Jupyter Notebook with libraries such as Pandas for data manipulation, and scatter plots to explore correlations in the data. I also integrated the [CryptoCompare API](https://pypi.org/project/cryptocompare/) to retrieve real-time cryptocurrency prices."
   ]
  },
  {
   "cell_type": "markdown",
   "id": "dc76ab46",
   "metadata": {},
   "source": [
    "## Github Repo\n",
    "\n",
    "In addition to this notebook, the project is also available in my repo. Please use the links below.\n",
    "- [Notebook tbd](xxx)\n",
    "- [SQL tbd](xxx)"
   ]
  },
  {
   "cell_type": "markdown",
   "id": "121122b1",
   "metadata": {},
   "source": [
    "## Datasets Used\n",
    "\n",
    "In this project, we use three distinct csv files containing data for the following:\n",
    "- **Users**, including an id, date the user signed up, and their risk score (a number assigned by our internal risk model).\n",
    "- **Accounts** for those users, including the date the account was created, and currency.\n",
    "- **Ledger** Entries for these accounts; these are single-entry, indicating the date and amount by which the account changed."
   ]
  },
  {
   "cell_type": "markdown",
   "id": "f5d42a60",
   "metadata": {},
   "source": [
    "#### Import Libraries"
   ]
  },
  {
   "cell_type": "code",
   "execution_count": 2,
   "id": "513e1e1e",
   "metadata": {},
   "outputs": [],
   "source": [
    "#!pip install pandas\n",
    "#!pip install matplotlib\n",
    "#!pip install cryptocompare\n",
    "#!pip install snowflake-connector-python\n",
    "#!pip install seaborn"
   ]
  },
  {
   "cell_type": "code",
   "execution_count": 3,
   "id": "c5b41229",
   "metadata": {},
   "outputs": [],
   "source": [
    "import pandas as pd\n",
    "import snowflake.connector\n",
    "import matplotlib.pyplot as plt\n",
    "import cryptocompare as cy\n",
    "import seaborn as sns "
   ]
  },
  {
   "cell_type": "markdown",
   "id": "6031862b",
   "metadata": {},
   "source": [
    "#### Connect to Snowflake"
   ]
  },
  {
   "cell_type": "code",
   "execution_count": 4,
   "id": "dd5e6cc8",
   "metadata": {},
   "outputs": [
    {
     "name": "stdout",
     "output_type": "stream",
     "text": [
      "Snowflake Connected Successfully!\n"
     ]
    }
   ],
   "source": [
    "sf_pw = input('Enter Password:')\n",
    "\n",
    "con = snowflake.connector.connect(\n",
    "    user = 'yuchengliu',\n",
    "    password = sf_pw,\n",
    "    account = 'ed01722.us-east4.gcp',\n",
    "    warehouse = 'COMPUTE_WH'\n",
    ")\n",
    "con.cursor()\n",
    "print(\"Snowflake Connected Successfully!\")"
   ]
  },
  {
   "cell_type": "markdown",
   "id": "36d51268",
   "metadata": {},
   "source": [
    "#### Helper Function(s)"
   ]
  },
  {
   "cell_type": "code",
   "execution_count": 5,
   "id": "7e6ec0b3",
   "metadata": {},
   "outputs": [],
   "source": [
    "#get_sf_data function retrieves data from snowflake by executing a SQL query and returns the results in dataframe for analysis.\n",
    "def get_sf_data(query):\n",
    "    sql = query \n",
    "    output_df = pd.read_sql(sql, con)\n",
    "    return output_df\n",
    "\n",
    "def get_simple_plot(dataframe_column, title, x_lable, y_lable, width):\n",
    "    plt.figure(figsize=(6, 4))\n",
    "    sns.histplot(dataframe_column, kde=True, binwidth=width)\n",
    "    plt.title(title)\n",
    "    plt.xlabel(x_lable)\n",
    "    plt.ylabel(y_lable)\n",
    "    plt.tight_layout()\n",
    "    plt.show()\n",
    "\n",
    "def get_simple_bar_plot(dataframe, title, x_lable, y_lable):\n",
    "    sns.barplot(x=x_lable, y=y_lable, data=dataframe)\n",
    "    plt.title(title)\n",
    "    plt.xlabel(x_label)\n",
    "    plt.ylabel(y_lable)"
   ]
  },
  {
   "cell_type": "markdown",
   "id": "bfe2c512",
   "metadata": {},
   "source": [
    "### **Question 1**  \n",
    "**Task: Draw an entity-relationship diagram for the data. Indicate the cardinality of the relationships.**"
   ]
  },
  {
   "cell_type": "markdown",
   "id": "34d9bbfc",
   "metadata": {},
   "source": [
    "![title](tbd)\n"
   ]
  },
  {
   "cell_type": "markdown",
   "id": "fd607853",
   "metadata": {},
   "source": [
    "### **Question 2**  \n",
    "**Task: Load the CSV files into a SQL database.**"
   ]
  },
  {
   "cell_type": "markdown",
   "id": "273d3735",
   "metadata": {},
   "source": [
    "I created a free Snowflake account and uploaded the three CSV files. Below is a screenshot of the datasets after they were successfully loaded.  \n",
    "\n",
    "| # | File Name | Snowflake Table Name\n",
    "|-----------------|-----------------|-----------------|\n",
    "| 1 | accounts.csv | COINBASE.PUBLIC.ACCOUNTS |\n",
    "| 2 | users.csv | COINBASE.PUBLIC.USERS |\n",
    "| 3 | ledger.csv | COINBASE.PUBLIC.LEDGER |"
   ]
  },
  {
   "cell_type": "markdown",
   "metadata": {},
   "source": [
    "![title](screenshot_sf.png)"
   ]
  },
  {
   "cell_type": "markdown",
   "id": "e99b306f",
   "metadata": {},
   "source": [
    "### **Question 3**\n",
    "**Task: Calculate and plot the following distributions**\n",
    "\n",
    "#### a. Number of accounts per user"
   ]
  },
  {
   "cell_type": "code",
   "execution_count": 6,
   "id": "f99b97d7",
   "metadata": {},
   "outputs": [
    {
     "name": "stderr",
     "output_type": "stream",
     "text": [
      "/var/folders/4l/t9877gg17j99nd_pc56r_pq40000gn/T/ipykernel_54199/2586534245.py:4: UserWarning: pandas only supports SQLAlchemy connectable (engine/connection) or database string URI or sqlite3 DBAPI2 connection. Other DBAPI2 objects are not tested. Please consider using SQLAlchemy.\n",
      "  output_df = pd.read_sql(sql, con)\n"
     ]
    },
    {
     "data": {
      "text/html": [
       "<div>\n",
       "<style scoped>\n",
       "    .dataframe tbody tr th:only-of-type {\n",
       "        vertical-align: middle;\n",
       "    }\n",
       "\n",
       "    .dataframe tbody tr th {\n",
       "        vertical-align: top;\n",
       "    }\n",
       "\n",
       "    .dataframe thead th {\n",
       "        text-align: right;\n",
       "    }\n",
       "</style>\n",
       "<table border=\"1\" class=\"dataframe\">\n",
       "  <thead>\n",
       "    <tr style=\"text-align: right;\">\n",
       "      <th></th>\n",
       "      <th>USER_ID</th>\n",
       "      <th>NUMBER_OF_ACCOUNTS</th>\n",
       "    </tr>\n",
       "  </thead>\n",
       "  <tbody>\n",
       "    <tr>\n",
       "      <th>0</th>\n",
       "      <td>28c6d03ee715c3c6a69cd960ca404123</td>\n",
       "      <td>130</td>\n",
       "    </tr>\n",
       "    <tr>\n",
       "      <th>1</th>\n",
       "      <td>2728a6faf3a6de76ca9fcb456f583dc8</td>\n",
       "      <td>17</td>\n",
       "    </tr>\n",
       "    <tr>\n",
       "      <th>2</th>\n",
       "      <td>5867ac641fb362074ac1bc6dde7f0c5f</td>\n",
       "      <td>16</td>\n",
       "    </tr>\n",
       "    <tr>\n",
       "      <th>3</th>\n",
       "      <td>91c0fbdf1ce91ab3b175a5510f9a8a63</td>\n",
       "      <td>15</td>\n",
       "    </tr>\n",
       "    <tr>\n",
       "      <th>4</th>\n",
       "      <td>b200203a377aa50d31dd589ce5cc018f</td>\n",
       "      <td>12</td>\n",
       "    </tr>\n",
       "    <tr>\n",
       "      <th>5</th>\n",
       "      <td>c1942d1b8570cb346c3b55f28e0ddad5</td>\n",
       "      <td>11</td>\n",
       "    </tr>\n",
       "    <tr>\n",
       "      <th>6</th>\n",
       "      <td>bbb45a52e1a3bc9ac178a907c57d555b</td>\n",
       "      <td>11</td>\n",
       "    </tr>\n",
       "    <tr>\n",
       "      <th>7</th>\n",
       "      <td>8e9379e729b4439c32f81dec2f2fa569</td>\n",
       "      <td>10</td>\n",
       "    </tr>\n",
       "    <tr>\n",
       "      <th>8</th>\n",
       "      <td>a00acd0117e6cccfade7a09c65cbe204</td>\n",
       "      <td>10</td>\n",
       "    </tr>\n",
       "    <tr>\n",
       "      <th>9</th>\n",
       "      <td>9d5ca06f5661dbf5324f4aba3e509e9d</td>\n",
       "      <td>9</td>\n",
       "    </tr>\n",
       "  </tbody>\n",
       "</table>\n",
       "</div>"
      ],
      "text/plain": [
       "                            USER_ID  NUMBER_OF_ACCOUNTS\n",
       "0  28c6d03ee715c3c6a69cd960ca404123                 130\n",
       "1  2728a6faf3a6de76ca9fcb456f583dc8                  17\n",
       "2  5867ac641fb362074ac1bc6dde7f0c5f                  16\n",
       "3  91c0fbdf1ce91ab3b175a5510f9a8a63                  15\n",
       "4  b200203a377aa50d31dd589ce5cc018f                  12\n",
       "5  c1942d1b8570cb346c3b55f28e0ddad5                  11\n",
       "6  bbb45a52e1a3bc9ac178a907c57d555b                  11\n",
       "7  8e9379e729b4439c32f81dec2f2fa569                  10\n",
       "8  a00acd0117e6cccfade7a09c65cbe204                  10\n",
       "9  9d5ca06f5661dbf5324f4aba3e509e9d                   9"
      ]
     },
     "execution_count": 6,
     "metadata": {},
     "output_type": "execute_result"
    }
   ],
   "source": [
    "#The query counts the number of accounts for each user. We use LEFT JOIN here to ensure that uses with 0 accounts are also included.\n",
    "q3_a_query = f\"\"\"\n",
    "        SELECT u.user_id, COUNT(a.account_id) AS number_of_accounts\n",
    "        FROM COINBASE.PUBLIC.USERS u\n",
    "        LEFT JOIN COINBASE.PUBLIC.ACCOUNTS a ON u.user_id = a.user_id\n",
    "        GROUP BY 1\n",
    "        ORDER BY 2 DESC;\n",
    "\"\"\"\n",
    "\n",
    "#once the query is built, we can call get_sf_data function to retreive data in dataframe format.\n",
    "number_of_account_per_user = get_sf_data(q3_a_query)\n",
    "number_of_account_per_user.head(10)"
   ]
  },
  {
   "cell_type": "code",
   "execution_count": 7,
   "id": "4e3f6a57",
   "metadata": {},
   "outputs": [
    {
     "data": {
      "text/plain": [
       "count    1000.0000\n",
       "mean        4.7110\n",
       "std         4.1534\n",
       "min         2.0000\n",
       "25%         4.0000\n",
       "50%         4.0000\n",
       "75%         5.0000\n",
       "max       130.0000\n",
       "Name: NUMBER_OF_ACCOUNTS, dtype: float64"
      ]
     },
     "execution_count": 7,
     "metadata": {},
     "output_type": "execute_result"
    }
   ],
   "source": [
    "number_of_account_per_user['NUMBER_OF_ACCOUNTS'].describe()"
   ]
  },
  {
   "cell_type": "code",
   "execution_count": 8,
   "id": "2ae971b0",
   "metadata": {},
   "outputs": [
    {
     "data": {
      "image/png": "[encoded data removed]",
      "text/plain": [
       "<Figure size 600x400 with 1 Axes>"
      ]
     },
     "metadata": {},
     "output_type": "display_data"
    }
   ],
   "source": [
    "get_simple_plot(number_of_account_per_user['NUMBER_OF_ACCOUNTS'], 'Number of Accounts per User', 'Number of Accounts', 'Number of Users', 1)"
   ]
  },
  {
   "cell_type": "markdown",
   "id": "48eb7964",
   "metadata": {},
   "source": [
    "**Observation -**  \n",
    "Looking at the number of accounts per user plot above, we can make a few observations:\n",
    "\n",
    "- Most users tend to have around 4 to 5 accounts, with a median of 4 accounts.  \n",
    "- The average number of accounts per user is about 4.71, but there's significant variation in account ownership, with the highest being 130 accounts.  \n",
    "- Most users have a small to moderate number of accounts, but there are some outliers with many accounts."
   ]
  },
  {
   "cell_type": "markdown",
   "id": "cb7c79ce",
   "metadata": {},
   "source": [
    "b. Number of distinct currencies per user."
   ]
  },
  {
   "cell_type": "code",
   "execution_count": 9,
   "id": "98a7cdae",
   "metadata": {},
   "outputs": [
    {
     "name": "stderr",
     "output_type": "stream",
     "text": [
      "/var/folders/4l/t9877gg17j99nd_pc56r_pq40000gn/T/ipykernel_54199/2586534245.py:4: UserWarning: pandas only supports SQLAlchemy connectable (engine/connection) or database string URI or sqlite3 DBAPI2 connection. Other DBAPI2 objects are not tested. Please consider using SQLAlchemy.\n",
      "  output_df = pd.read_sql(sql, con)\n"
     ]
    },
    {
     "data": {
      "text/html": [
       "<div>\n",
       "<style scoped>\n",
       "    .dataframe tbody tr th:only-of-type {\n",
       "        vertical-align: middle;\n",
       "    }\n",
       "\n",
       "    .dataframe tbody tr th {\n",
       "        vertical-align: top;\n",
       "    }\n",
       "\n",
       "    .dataframe thead th {\n",
       "        text-align: right;\n",
       "    }\n",
       "</style>\n",
       "<table border=\"1\" class=\"dataframe\">\n",
       "  <thead>\n",
       "    <tr style=\"text-align: right;\">\n",
       "      <th></th>\n",
       "      <th>USER_ID</th>\n",
       "      <th>NUMBER_OF_DISTINCT_CURRENCIES</th>\n",
       "    </tr>\n",
       "  </thead>\n",
       "  <tbody>\n",
       "    <tr>\n",
       "      <th>0</th>\n",
       "      <td>befbddf34f71095d3fe49efd79a8996e</td>\n",
       "      <td>5</td>\n",
       "    </tr>\n",
       "    <tr>\n",
       "      <th>1</th>\n",
       "      <td>849b234ec990304fb126b8f5c4d80662</td>\n",
       "      <td>5</td>\n",
       "    </tr>\n",
       "    <tr>\n",
       "      <th>2</th>\n",
       "      <td>48cc9779135b57b6a8d4052e93bb843a</td>\n",
       "      <td>5</td>\n",
       "    </tr>\n",
       "    <tr>\n",
       "      <th>3</th>\n",
       "      <td>9809ea41344fe457cdf908e5c55562b4</td>\n",
       "      <td>5</td>\n",
       "    </tr>\n",
       "    <tr>\n",
       "      <th>4</th>\n",
       "      <td>e32a56807ab3e71bb5e07f7ffc8c5174</td>\n",
       "      <td>5</td>\n",
       "    </tr>\n",
       "    <tr>\n",
       "      <th>5</th>\n",
       "      <td>c8691d1c60e9537da42e187170ab369f</td>\n",
       "      <td>5</td>\n",
       "    </tr>\n",
       "    <tr>\n",
       "      <th>6</th>\n",
       "      <td>6b2f573b84f1cb31d3d6031016816d43</td>\n",
       "      <td>5</td>\n",
       "    </tr>\n",
       "    <tr>\n",
       "      <th>7</th>\n",
       "      <td>083743fdb35ded42d3b6cd68e2d3fa68</td>\n",
       "      <td>5</td>\n",
       "    </tr>\n",
       "    <tr>\n",
       "      <th>8</th>\n",
       "      <td>e860c1f7ee8c4ac2d1d1b060c93b2b44</td>\n",
       "      <td>5</td>\n",
       "    </tr>\n",
       "    <tr>\n",
       "      <th>9</th>\n",
       "      <td>8a769296f770704d32e2b754a29d85ea</td>\n",
       "      <td>5</td>\n",
       "    </tr>\n",
       "  </tbody>\n",
       "</table>\n",
       "</div>"
      ],
      "text/plain": [
       "                            USER_ID  NUMBER_OF_DISTINCT_CURRENCIES\n",
       "0  befbddf34f71095d3fe49efd79a8996e                              5\n",
       "1  849b234ec990304fb126b8f5c4d80662                              5\n",
       "2  48cc9779135b57b6a8d4052e93bb843a                              5\n",
       "3  9809ea41344fe457cdf908e5c55562b4                              5\n",
       "4  e32a56807ab3e71bb5e07f7ffc8c5174                              5\n",
       "5  c8691d1c60e9537da42e187170ab369f                              5\n",
       "6  6b2f573b84f1cb31d3d6031016816d43                              5\n",
       "7  083743fdb35ded42d3b6cd68e2d3fa68                              5\n",
       "8  e860c1f7ee8c4ac2d1d1b060c93b2b44                              5\n",
       "9  8a769296f770704d32e2b754a29d85ea                              5"
      ]
     },
     "execution_count": 9,
     "metadata": {},
     "output_type": "execute_result"
    }
   ],
   "source": [
    "q3_b_query = f\"\"\"\n",
    "            SELECT u.user_id, COUNT(DISTINCT(a.currency)) AS number_of_distinct_currencies\n",
    "            FROM COINBASE.PUBLIC.USERS u\n",
    "            LEFT JOIN COINBASE.PUBLIC.ACCOUNTS a ON u.user_id = a.user_id\n",
    "            GROUP BY 1\n",
    "            ORDER BY 2 DESC;\n",
    "\"\"\"\n",
    "\n",
    "number_of_currency_per_user = get_sf_data(q3_b_query)\n",
    "number_of_currency_per_user.head(10)"
   ]
  },
  {
   "cell_type": "code",
   "execution_count": 10,
   "id": "f6d6ee7c",
   "metadata": {},
   "outputs": [
    {
     "data": {
      "text/plain": [
       "count    1000.000000\n",
       "mean        3.371000\n",
       "std         0.712648\n",
       "min         2.000000\n",
       "25%         3.000000\n",
       "50%         3.000000\n",
       "75%         4.000000\n",
       "max         5.000000\n",
       "Name: NUMBER_OF_DISTINCT_CURRENCIES, dtype: float64"
      ]
     },
     "execution_count": 10,
     "metadata": {},
     "output_type": "execute_result"
    }
   ],
   "source": [
    "number_of_currency_per_user['NUMBER_OF_DISTINCT_CURRENCIES'].describe()"
   ]
  },
  {
   "cell_type": "code",
   "execution_count": 11,
   "id": "101d5020",
   "metadata": {},
   "outputs": [
    {
     "data": {
      "image/png": "[encoded data removed]",
      "text/plain": [
       "<Figure size 600x400 with 1 Axes>"
      ]
     },
     "metadata": {},
     "output_type": "display_data"
    }
   ],
   "source": [
    "get_simple_plot(number_of_currency_per_user['NUMBER_OF_DISTINCT_CURRENCIES'], 'Number of Distinct Currencies per User', 'Number of Currencies', 'Number of Users', 0.1)"
   ]
  },
  {
   "cell_type": "markdown",
   "id": "9f21747a",
   "metadata": {},
   "source": [
    "**Observation -**  \n",
    "Looking at the number of currencies per user plot above, we have the following observation:\n",
    "\n",
    "Most users tend to own between 3 and 4 types of currency, with relatively little variation. There are no extreme outliers, and only a few users own the maximum of 5 currencies. This indicates that users generally hold a small and similar range of currencies."
   ]
  },
  {
   "cell_type": "markdown",
   "id": "4591afda",
   "metadata": {},
   "source": [
    "c. Number of days it takes for users to make their first deposit."
   ]
  },
  {
   "cell_type": "code",
   "execution_count": 12,
   "id": "2218a13f",
   "metadata": {},
   "outputs": [
    {
     "name": "stderr",
     "output_type": "stream",
     "text": [
      "/var/folders/4l/t9877gg17j99nd_pc56r_pq40000gn/T/ipykernel_54199/2586534245.py:4: UserWarning: pandas only supports SQLAlchemy connectable (engine/connection) or database string URI or sqlite3 DBAPI2 connection. Other DBAPI2 objects are not tested. Please consider using SQLAlchemy.\n",
      "  output_df = pd.read_sql(sql, con)\n"
     ]
    },
    {
     "data": {
      "text/html": [
       "<div>\n",
       "<style scoped>\n",
       "    .dataframe tbody tr th:only-of-type {\n",
       "        vertical-align: middle;\n",
       "    }\n",
       "\n",
       "    .dataframe tbody tr th {\n",
       "        vertical-align: top;\n",
       "    }\n",
       "\n",
       "    .dataframe thead th {\n",
       "        text-align: right;\n",
       "    }\n",
       "</style>\n",
       "<table border=\"1\" class=\"dataframe\">\n",
       "  <thead>\n",
       "    <tr style=\"text-align: right;\">\n",
       "      <th></th>\n",
       "      <th>USER_ID</th>\n",
       "      <th>CREATED_AT</th>\n",
       "      <th>DAYS_TO_FIRST_DEPOSIT</th>\n",
       "    </tr>\n",
       "  </thead>\n",
       "  <tbody>\n",
       "    <tr>\n",
       "      <th>0</th>\n",
       "      <td>c2ef646029858a80fd5b733c521e21e0</td>\n",
       "      <td>2013-04-21 20:11:35</td>\n",
       "      <td>1616</td>\n",
       "    </tr>\n",
       "    <tr>\n",
       "      <th>1</th>\n",
       "      <td>d82cff3eb5f74538e10aecc4f1416f78</td>\n",
       "      <td>2013-11-18 18:13:47</td>\n",
       "      <td>1389</td>\n",
       "    </tr>\n",
       "    <tr>\n",
       "      <th>2</th>\n",
       "      <td>6d9333dcb868de360c50c33364e8ea2a</td>\n",
       "      <td>2014-01-02 21:56:58</td>\n",
       "      <td>1374</td>\n",
       "    </tr>\n",
       "    <tr>\n",
       "      <th>3</th>\n",
       "      <td>4a06ae4f7b47874e85493a27dc2f42df</td>\n",
       "      <td>2013-12-13 15:19:28</td>\n",
       "      <td>1335</td>\n",
       "    </tr>\n",
       "    <tr>\n",
       "      <th>4</th>\n",
       "      <td>1eff7366e33c184a77cb2b41d61c2b65</td>\n",
       "      <td>2013-12-07 18:40:08</td>\n",
       "      <td>1310</td>\n",
       "    </tr>\n",
       "    <tr>\n",
       "      <th>5</th>\n",
       "      <td>6a092c1b4cdb7f1742c3a3719ab5929c</td>\n",
       "      <td>2014-04-12 13:01:29</td>\n",
       "      <td>1257</td>\n",
       "    </tr>\n",
       "    <tr>\n",
       "      <th>6</th>\n",
       "      <td>2d3ce8d1a5f086a4ee9efb36c5d1845e</td>\n",
       "      <td>2014-02-18 22:45:11</td>\n",
       "      <td>1211</td>\n",
       "    </tr>\n",
       "    <tr>\n",
       "      <th>7</th>\n",
       "      <td>ca4172f864238e8578a415e215713ea6</td>\n",
       "      <td>2014-06-20 16:59:36</td>\n",
       "      <td>1085</td>\n",
       "    </tr>\n",
       "    <tr>\n",
       "      <th>8</th>\n",
       "      <td>80a22e10cb53c3d3743fbe01ceec33dc</td>\n",
       "      <td>2014-01-09 05:00:47</td>\n",
       "      <td>1039</td>\n",
       "    </tr>\n",
       "    <tr>\n",
       "      <th>9</th>\n",
       "      <td>86c89b1ba16e4270bd4739c6b098735c</td>\n",
       "      <td>2014-11-23 10:05:02</td>\n",
       "      <td>881</td>\n",
       "    </tr>\n",
       "  </tbody>\n",
       "</table>\n",
       "</div>"
      ],
      "text/plain": [
       "                            USER_ID          CREATED_AT  DAYS_TO_FIRST_DEPOSIT\n",
       "0  c2ef646029858a80fd5b733c521e21e0 2013-04-21 20:11:35                   1616\n",
       "1  d82cff3eb5f74538e10aecc4f1416f78 2013-11-18 18:13:47                   1389\n",
       "2  6d9333dcb868de360c50c33364e8ea2a 2014-01-02 21:56:58                   1374\n",
       "3  4a06ae4f7b47874e85493a27dc2f42df 2013-12-13 15:19:28                   1335\n",
       "4  1eff7366e33c184a77cb2b41d61c2b65 2013-12-07 18:40:08                   1310\n",
       "5  6a092c1b4cdb7f1742c3a3719ab5929c 2014-04-12 13:01:29                   1257\n",
       "6  2d3ce8d1a5f086a4ee9efb36c5d1845e 2014-02-18 22:45:11                   1211\n",
       "7  ca4172f864238e8578a415e215713ea6 2014-06-20 16:59:36                   1085\n",
       "8  80a22e10cb53c3d3743fbe01ceec33dc 2014-01-09 05:00:47                   1039\n",
       "9  86c89b1ba16e4270bd4739c6b098735c 2014-11-23 10:05:02                    881"
      ]
     },
     "execution_count": 12,
     "metadata": {},
     "output_type": "execute_result"
    }
   ],
   "source": [
    "q3_c_query = f\"\"\"\n",
    "        SELECT u.user_id, u.created_at, DATEDIFF('day', u.created_at, MIN(l.created_at)) AS days_to_first_deposit\n",
    "        FROM COINBASE.PUBLIC.USERS u\n",
    "        JOIN COINBASE.PUBLIC.ACCOUNTS a ON u.user_id = a.user_id\n",
    "        JOIN COINBASE.PUBLIC.LEDGER l ON a.account_id = l.account_id\n",
    "        WHERE l.amount > 0\n",
    "        GROUP BY 1,2\n",
    "        ORDER BY 3 DESC;\n",
    "\"\"\"\n",
    "\n",
    "number_of_days_first_deposit = get_sf_data(q3_c_query)\n",
    "number_of_days_first_deposit.head(10)"
   ]
  },
  {
   "cell_type": "code",
   "execution_count": 13,
   "id": "c20c586b",
   "metadata": {},
   "outputs": [
    {
     "data": {
      "text/plain": [
       "count     991.000000\n",
       "mean       38.643794\n",
       "std       152.306692\n",
       "min         0.000000\n",
       "25%         0.000000\n",
       "50%         1.000000\n",
       "75%         9.000000\n",
       "max      1616.000000\n",
       "Name: DAYS_TO_FIRST_DEPOSIT, dtype: float64"
      ]
     },
     "execution_count": 13,
     "metadata": {},
     "output_type": "execute_result"
    }
   ],
   "source": [
    "number_of_days_first_deposit['DAYS_TO_FIRST_DEPOSIT'].describe()"
   ]
  },
  {
   "cell_type": "code",
   "execution_count": 14,
   "id": "7b78f1a4",
   "metadata": {},
   "outputs": [
    {
     "data": {
      "image/png": "[encoded data removed]",
      "text/plain": [
       "<Figure size 600x400 with 1 Axes>"
      ]
     },
     "metadata": {},
     "output_type": "display_data"
    }
   ],
   "source": [
    "get_simple_plot(number_of_days_first_deposit['DAYS_TO_FIRST_DEPOSIT'], 'Number of Days to Make The First Deposit', 'Number of Days', 'Number of Users', 30)"
   ]
  },
  {
   "cell_type": "markdown",
   "id": "94497942",
   "metadata": {},
   "source": [
    "**Observations**  \n",
    "\n",
    "On average, it takes about 39 days for users to make their first deposit. The majority of users (75%) make their first deposit within 9 days, and a significant portion do so on the same day. However, there is a wide range of behavior, as evidenced by the large standard deviation and maximum value, with some users taking much longer to deposit. "
   ]
  },
  {
   "cell_type": "markdown",
   "id": "7a5b3a06",
   "metadata": {},
   "source": [
    "d. Number of days between a user’s first deposit and first withdrawal."
   ]
  },
  {
   "cell_type": "code",
   "execution_count": 15,
   "id": "483f7943",
   "metadata": {},
   "outputs": [
    {
     "name": "stderr",
     "output_type": "stream",
     "text": [
      "/var/folders/4l/t9877gg17j99nd_pc56r_pq40000gn/T/ipykernel_54199/2586534245.py:4: UserWarning: pandas only supports SQLAlchemy connectable (engine/connection) or database string URI or sqlite3 DBAPI2 connection. Other DBAPI2 objects are not tested. Please consider using SQLAlchemy.\n",
      "  output_df = pd.read_sql(sql, con)\n"
     ]
    },
    {
     "data": {
      "text/html": [
       "<div>\n",
       "<style scoped>\n",
       "    .dataframe tbody tr th:only-of-type {\n",
       "        vertical-align: middle;\n",
       "    }\n",
       "\n",
       "    .dataframe tbody tr th {\n",
       "        vertical-align: top;\n",
       "    }\n",
       "\n",
       "    .dataframe thead th {\n",
       "        text-align: right;\n",
       "    }\n",
       "</style>\n",
       "<table border=\"1\" class=\"dataframe\">\n",
       "  <thead>\n",
       "    <tr style=\"text-align: right;\">\n",
       "      <th></th>\n",
       "      <th>USER_ID</th>\n",
       "      <th>FIRST_DEPOSIT</th>\n",
       "      <th>FIRST_WITHDRAWAL</th>\n",
       "      <th>DAYS_BETWEEN_FIRST_DEPOSIT_AND_WITHDRAWAL</th>\n",
       "    </tr>\n",
       "  </thead>\n",
       "  <tbody>\n",
       "    <tr>\n",
       "      <th>0</th>\n",
       "      <td>dbdf77833ee48da25845672c57d4fa9a</td>\n",
       "      <td>2013-11-09 17:33:26</td>\n",
       "      <td>2017-08-04 16:18:36</td>\n",
       "      <td>1364</td>\n",
       "    </tr>\n",
       "    <tr>\n",
       "      <th>1</th>\n",
       "      <td>0404795663f0281a0b539a65ed02d603</td>\n",
       "      <td>2014-03-03 16:21:19</td>\n",
       "      <td>2017-08-15 14:11:52</td>\n",
       "      <td>1261</td>\n",
       "    </tr>\n",
       "    <tr>\n",
       "      <th>2</th>\n",
       "      <td>6f17e6561b710769b3d1bab508ff9348</td>\n",
       "      <td>2014-05-01 17:06:51</td>\n",
       "      <td>2017-07-08 17:32:33</td>\n",
       "      <td>1164</td>\n",
       "    </tr>\n",
       "    <tr>\n",
       "      <th>3</th>\n",
       "      <td>0bc6ff0fd6e0408352e7635812bdcc1b</td>\n",
       "      <td>2013-12-02 21:22:45</td>\n",
       "      <td>2017-01-25 17:56:35</td>\n",
       "      <td>1150</td>\n",
       "    </tr>\n",
       "    <tr>\n",
       "      <th>4</th>\n",
       "      <td>4aff5d412b4aab1863f0fde85dd20bc6</td>\n",
       "      <td>2014-02-24 20:24:06</td>\n",
       "      <td>2017-03-20 22:27:22</td>\n",
       "      <td>1120</td>\n",
       "    </tr>\n",
       "    <tr>\n",
       "      <th>5</th>\n",
       "      <td>05460fdf4361e1a43bb7b3f47acfffba</td>\n",
       "      <td>2014-10-13 03:17:38</td>\n",
       "      <td>2017-07-03 18:19:47</td>\n",
       "      <td>994</td>\n",
       "    </tr>\n",
       "    <tr>\n",
       "      <th>6</th>\n",
       "      <td>e32a56807ab3e71bb5e07f7ffc8c5174</td>\n",
       "      <td>2013-10-06 04:05:13</td>\n",
       "      <td>2016-06-18 02:39:40</td>\n",
       "      <td>986</td>\n",
       "    </tr>\n",
       "    <tr>\n",
       "      <th>7</th>\n",
       "      <td>e8da57cf4944935892307a0e05905e9d</td>\n",
       "      <td>2013-10-23 19:12:48</td>\n",
       "      <td>2016-03-21 22:53:46</td>\n",
       "      <td>880</td>\n",
       "    </tr>\n",
       "    <tr>\n",
       "      <th>8</th>\n",
       "      <td>70672d581cbe29ad2c5e98bc700b05a4</td>\n",
       "      <td>2015-04-04 18:36:01</td>\n",
       "      <td>2017-04-20 20:52:01</td>\n",
       "      <td>747</td>\n",
       "    </tr>\n",
       "    <tr>\n",
       "      <th>9</th>\n",
       "      <td>6f6ede625256deb8c1998456618c1b51</td>\n",
       "      <td>2014-02-26 23:24:53</td>\n",
       "      <td>2015-12-29 22:13:53</td>\n",
       "      <td>671</td>\n",
       "    </tr>\n",
       "  </tbody>\n",
       "</table>\n",
       "</div>"
      ],
      "text/plain": [
       "                            USER_ID       FIRST_DEPOSIT    FIRST_WITHDRAWAL  \\\n",
       "0  dbdf77833ee48da25845672c57d4fa9a 2013-11-09 17:33:26 2017-08-04 16:18:36   \n",
       "1  0404795663f0281a0b539a65ed02d603 2014-03-03 16:21:19 2017-08-15 14:11:52   \n",
       "2  6f17e6561b710769b3d1bab508ff9348 2014-05-01 17:06:51 2017-07-08 17:32:33   \n",
       "3  0bc6ff0fd6e0408352e7635812bdcc1b 2013-12-02 21:22:45 2017-01-25 17:56:35   \n",
       "4  4aff5d412b4aab1863f0fde85dd20bc6 2014-02-24 20:24:06 2017-03-20 22:27:22   \n",
       "5  05460fdf4361e1a43bb7b3f47acfffba 2014-10-13 03:17:38 2017-07-03 18:19:47   \n",
       "6  e32a56807ab3e71bb5e07f7ffc8c5174 2013-10-06 04:05:13 2016-06-18 02:39:40   \n",
       "7  e8da57cf4944935892307a0e05905e9d 2013-10-23 19:12:48 2016-03-21 22:53:46   \n",
       "8  70672d581cbe29ad2c5e98bc700b05a4 2015-04-04 18:36:01 2017-04-20 20:52:01   \n",
       "9  6f6ede625256deb8c1998456618c1b51 2014-02-26 23:24:53 2015-12-29 22:13:53   \n",
       "\n",
       "   DAYS_BETWEEN_FIRST_DEPOSIT_AND_WITHDRAWAL  \n",
       "0                                       1364  \n",
       "1                                       1261  \n",
       "2                                       1164  \n",
       "3                                       1150  \n",
       "4                                       1120  \n",
       "5                                        994  \n",
       "6                                        986  \n",
       "7                                        880  \n",
       "8                                        747  \n",
       "9                                        671  "
      ]
     },
     "execution_count": 15,
     "metadata": {},
     "output_type": "execute_result"
    }
   ],
   "source": [
    "q3_d_query = f\"\"\"\n",
    "        SELECT u.user_id,\n",
    "            MIN(CASE WHEN l.amount > 0 THEN l.created_at END) AS first_deposit,\n",
    "            MIN(CASE WHEN l.amount < 0 THEN l.created_at END) AS first_withdrawal,\n",
    "            DATEDIFF(\n",
    "                'day', \n",
    "                MIN(CASE WHEN l.amount > 0 THEN l.created_at END),  -- First deposit date\n",
    "                MIN(CASE WHEN l.amount < 0 THEN l.created_at END)   -- First withdrawal date\n",
    "            ) AS days_between_first_deposit_and_withdrawal\n",
    "        FROM \n",
    "            COINBASE.PUBLIC.USERS u\n",
    "        JOIN \n",
    "            COINBASE.PUBLIC.ACCOUNTS a ON u.user_id = a.user_id\n",
    "        JOIN \n",
    "            COINBASE.PUBLIC.LEDGER l ON a.account_id = l.account_id\n",
    "        GROUP BY 1\n",
    "        HAVING days_between_first_deposit_and_withdrawal IS NOT NULL\n",
    "        ORDER BY 4 DESC;\n",
    "\"\"\"\n",
    "\n",
    "number_of_days_first_deposit_and_first_withdrawal = get_sf_data(q3_d_query)\n",
    "number_of_days_first_deposit_and_first_withdrawal.head(10)"
   ]
  },
  {
   "cell_type": "code",
   "execution_count": 16,
   "id": "87b15073",
   "metadata": {},
   "outputs": [
    {
     "data": {
      "text/plain": [
       "count     687.000000\n",
       "mean       36.621543\n",
       "std       142.286870\n",
       "min         0.000000\n",
       "25%         0.000000\n",
       "50%         2.000000\n",
       "75%        12.000000\n",
       "max      1364.000000\n",
       "Name: DAYS_BETWEEN_FIRST_DEPOSIT_AND_WITHDRAWAL, dtype: float64"
      ]
     },
     "execution_count": 16,
     "metadata": {},
     "output_type": "execute_result"
    }
   ],
   "source": [
    "number_of_days_first_deposit_and_first_withdrawal['DAYS_BETWEEN_FIRST_DEPOSIT_AND_WITHDRAWAL'].describe()"
   ]
  },
  {
   "cell_type": "code",
   "execution_count": 17,
   "id": "2db6d4b1",
   "metadata": {},
   "outputs": [
    {
     "data": {
      "image/png": "[encoded data removed]",
      "text/plain": [
       "<Figure size 600x400 with 1 Axes>"
      ]
     },
     "metadata": {},
     "output_type": "display_data"
    }
   ],
   "source": [
    "get_simple_plot(number_of_days_first_deposit_and_first_withdrawal['DAYS_BETWEEN_FIRST_DEPOSIT_AND_WITHDRAWAL'], 'Number of Days between First Deposit and First Withdrawal', 'Number of Days', 'Number of Users', 25)"
   ]
  },
  {
   "cell_type": "markdown",
   "id": "db5b2f24",
   "metadata": {},
   "source": [
    "##### **Observations**  \n",
    "On average, it takes about 37 days for users to make their first withdrawal after their first deposit. Most users (75%) make their first withdrawal within 12 days of their first deposit, with half doing so in just 2 days. However, the distribution is highly skewed, as few users do not make their first withdrawal over 1,000 days (3+ years).  "
   ]
  },
  {
   "cell_type": "markdown",
   "id": "465c546e",
   "metadata": {},
   "source": [
    "### **Question 4**\n",
    "**Task: Calculate and present the following:**  \n",
    "\n",
    "a. Average transaction volume for high risk, medium risk, and low risk customers  \n",
    "- High risk: Users with a score of 50 or higher  \n",
    "- Medium risk: Users with a score between 10 and 49  \n",
    "- Low risk: Users with a score below 10  \n"
   ]
  },
  {
   "cell_type": "code",
   "execution_count": 21,
   "id": "23419c0f",
   "metadata": {},
   "outputs": [
    {
     "name": "stderr",
     "output_type": "stream",
     "text": [
      "/var/folders/4l/t9877gg17j99nd_pc56r_pq40000gn/T/ipykernel_54199/2586534245.py:4: UserWarning: pandas only supports SQLAlchemy connectable (engine/connection) or database string URI or sqlite3 DBAPI2 connection. Other DBAPI2 objects are not tested. Please consider using SQLAlchemy.\n",
      "  output_df = pd.read_sql(sql, con)\n"
     ]
    },
    {
     "data": {
      "text/html": [
       "<div>\n",
       "<style scoped>\n",
       "    .dataframe tbody tr th:only-of-type {\n",
       "        vertical-align: middle;\n",
       "    }\n",
       "\n",
       "    .dataframe tbody tr th {\n",
       "        vertical-align: top;\n",
       "    }\n",
       "\n",
       "    .dataframe thead th {\n",
       "        text-align: right;\n",
       "    }\n",
       "</style>\n",
       "<table border=\"1\" class=\"dataframe\">\n",
       "  <thead>\n",
       "    <tr style=\"text-align: right;\">\n",
       "      <th></th>\n",
       "      <th>RISK_RATING</th>\n",
       "      <th>AVERAGE_TRANSACTION_VOLUME</th>\n",
       "    </tr>\n",
       "  </thead>\n",
       "  <tbody>\n",
       "    <tr>\n",
       "      <th>0</th>\n",
       "      <td>High Risk</td>\n",
       "      <td>0.017464</td>\n",
       "    </tr>\n",
       "    <tr>\n",
       "      <th>1</th>\n",
       "      <td>Low Risk</td>\n",
       "      <td>0.158985</td>\n",
       "    </tr>\n",
       "    <tr>\n",
       "      <th>2</th>\n",
       "      <td>Medium Risk</td>\n",
       "      <td>0.138432</td>\n",
       "    </tr>\n",
       "    <tr>\n",
       "      <th>3</th>\n",
       "      <td>Unknown Risk</td>\n",
       "      <td>-0.027104</td>\n",
       "    </tr>\n",
       "  </tbody>\n",
       "</table>\n",
       "</div>"
      ],
      "text/plain": [
       "    RISK_RATING  AVERAGE_TRANSACTION_VOLUME\n",
       "0     High Risk                    0.017464\n",
       "1      Low Risk                    0.158985\n",
       "2   Medium Risk                    0.138432\n",
       "3  Unknown Risk                   -0.027104"
      ]
     },
     "execution_count": 21,
     "metadata": {},
     "output_type": "execute_result"
    }
   ],
   "source": [
    "q4_a_query = f\"\"\"\n",
    "        SELECT \n",
    "            CASE\n",
    "                WHEN u.risk_score IS NULL THEN 'Unknown Risk'\n",
    "                WHEN u.risk_score >= 50 THEN 'High Risk'\n",
    "                WHEN u.risk_score BETWEEN 10 AND 49 THEN 'Medium Risk'\n",
    "                ELSE 'Low Risk'\n",
    "            END AS risk_rating,\n",
    "            AVG(l.amount) AS average_transaction_volume\n",
    "        FROM \n",
    "            COINBASE.PUBLIC.USERS u\n",
    "        JOIN \n",
    "            COINBASE.PUBLIC.ACCOUNTS a ON u.user_id = a.user_id\n",
    "        JOIN \n",
    "            COINBASE.PUBLIC.LEDGER l ON a.account_id = l.account_id\n",
    "        GROUP BY 1\n",
    "        ORDER BY 1;\n",
    "\"\"\"\n",
    "\n",
    "avg_transaction_for_each_risk = get_sf_data(q4_a_query)\n",
    "avg_transaction_for_each_risk.head(10)"
   ]
  },
  {
   "cell_type": "code",
   "execution_count": 34,
   "id": "cba1d33b",
   "metadata": {},
   "outputs": [
    {
     "data": {
      "image/png": "[encoded data removed]",
      "text/plain": [
       "<Figure size 2800x800 with 2 Axes>"
      ]
     },
     "metadata": {},
     "output_type": "display_data"
    }
   ],
   "source": [
    "fig, axes = plt.subplots(nrows=1, ncols=2, figsize=(28, 8))\n",
    "\n",
    "sns.barplot(x='RISK_RATING', y='AVERAGE_TRANSACTION_VOLUME', data=avg_transaction_for_each_risk)\n",
    "plt.title('Average Sentiment Score per Genre')\n",
    "plt.xlabel('Average Sentiment')\n",
    "plt.ylabel('Genre')\n",
    "\n",
    "sns.barplot(x='RISK_RATING', y='AVERAGE_TRANSACTION_VOLUME', data=avg_transaction_for_each_risk)\n",
    "plt.title('Average Sentiment Score per Genre')\n",
    "plt.xlabel('Average Sentiment')\n",
    "plt.ylabel('Genre')\n",
    "plt.show()"
   ]
  },
  {
   "cell_type": "markdown",
   "id": "a7ef3bb9",
   "metadata": {},
   "source": [
    "### **Question 7**  \n",
    "**Find a source of crypto prices online. Extract the price data and write a script that generates a corresponding table. Use the table to provide a time series for:**  \n",
    "- The dollar value of all crypto assets in user accounts, i.e. what is the total value held in all wallets as a function of time.\n",
    "- The dollar value of assets flows in and out of user accounts, i.e. what is the net flow of value into or out of all accounts in aggregate."
   ]
  },
  {
   "cell_type": "code",
   "execution_count": 18,
   "id": "9c6ade2e-fcb3-4068-85a8-d5516066bf2d",
   "metadata": {},
   "outputs": [
    {
     "data": {
      "text/plain": [
       "'&api_key=639ef0f8b451f07328392747b6b25ea2dc79e27c2ea163d4ee60491198aa3ee6'"
      ]
     },
     "execution_count": 18,
     "metadata": {},
     "output_type": "execute_result"
    }
   ],
   "source": [
    "KEY = '639ef0f8b451f07328392747b6b25ea2dc79e27c2ea163d4ee60491198aa3ee6'\n",
    "\n",
    "cy.cryptocompare._set_api_key_parameter(KEY)\n"
   ]
  },
  {
   "cell_type": "code",
   "execution_count": 19,
   "id": "8bee1d63-bb50-47cf-b54a-b9c212234c29",
   "metadata": {},
   "outputs": [
    {
     "data": {
      "text/plain": [
       "{'BTC': {'USD': 62697.38}}"
      ]
     },
     "execution_count": 19,
     "metadata": {},
     "output_type": "execute_result"
    }
   ],
   "source": [
    "cy.get_price('BTC', currency='USD')\n"
   ]
  }
 ],
 "metadata": {
  "kernelspec": {
   "display_name": "Python 3",
   "language": "python",
   "name": "python3"
  },
  "language_info": {
   "codemirror_mode": {
    "name": "ipython",
    "version": 3
   },
   "file_extension": ".py",
   "mimetype": "text/x-python",
   "name": "python",
   "nbconvert_exporter": "python",
   "pygments_lexer": "ipython3",
   "version": "3.9.6"
  }
 },
 "nbformat": 4,
 "nbformat_minor": 5
}
