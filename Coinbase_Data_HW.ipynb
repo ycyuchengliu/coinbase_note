{
 "cells": [
  {
   "cell_type": "markdown",
   "id": "4970e72c",
   "metadata": {},
   "source": [
    "# Coinbase Data Analyst Take Home Exam"
   ]
  },
  {
   "cell_type": "markdown",
   "id": "82ab7fba",
   "metadata": {},
   "source": [
    "- Yucheng Liu: <yc.yuchengliu@gmail.com>\n",
    "- October 2024"
   ]
  },
  {
   "cell_type": "markdown",
   "id": "3c807fff",
   "metadata": {},
   "source": [
    "## Abstract\n",
    "This project demonstrates the key technical skills required for a data analyst role in Coinbase Internal Audit. I utilized Snowflake SQL to import datasets and perform analysis by joining and aggregating tables. Additionally, I used Python in Jupyter Notebook with libraries such as Pandas for data manipulation and scatter plots to explore and visualize correlations in the data. I also integrated the [CryptoCompare API](https://pypi.org/project/cryptocompare/) to retrieve real-time cryptocurrency prices."
   ]
  },
  {
   "cell_type": "markdown",
   "id": "dc76ab46",
   "metadata": {},
   "source": [
    "## Github Repo\n",
    "\n",
    "In addition to this notebook, the project is also available in my repo. Please use the links below.\n",
    "- [Notebook tbd](xxx)\n",
    "- [SQL tbd](xxx)"
   ]
  },
  {
   "cell_type": "markdown",
   "id": "121122b1",
   "metadata": {},
   "source": [
    "## Datasets Used\n",
    "\n",
    "In this project, we use three distinct csv files containing data for the following:\n",
    "- **Users**, including an id, date the user signed up, and their risk score (a number assigned by our internal risk model).\n",
    "- **Accounts** for those users, including the date the account was created, and currency.\n",
    "- **Ledger** Entries for these accounts; these are single-entry, indicating the date and amount by which the account changed."
   ]
  },
  {
   "cell_type": "markdown",
   "id": "f5d42a60",
   "metadata": {},
   "source": [
    "### **Prepration**\n",
    "Import Libraries"
   ]
  },
  {
   "cell_type": "code",
   "execution_count": 1,
   "id": "513e1e1e",
   "metadata": {},
   "outputs": [],
   "source": [
    "#!pip install pandas\n",
    "#!pip install matplotlib\n",
    "#!pip install cryptocompare\n",
    "#!pip install snowflake-connector-python\n",
    "#!pip install seaborn"
   ]
  },
  {
   "cell_type": "code",
   "execution_count": 2,
   "id": "c5b41229",
   "metadata": {},
   "outputs": [],
   "source": [
    "import pandas as pd\n",
    "import snowflake.connector\n",
    "import matplotlib.pyplot as plt\n",
    "import cryptocompare as cy\n",
    "import seaborn as sns "
   ]
  },
  {
   "cell_type": "markdown",
   "id": "6031862b",
   "metadata": {},
   "source": [
    "Connect to Snowflake"
   ]
  },
  {
   "cell_type": "code",
   "execution_count": 3,
   "id": "dd5e6cc8",
   "metadata": {},
   "outputs": [
    {
     "name": "stdout",
     "output_type": "stream",
     "text": [
      "Snowflake Connected Successfully!\n"
     ]
    }
   ],
   "source": [
    "sf_pw = input('Enter Password:')\n",
    "\n",
    "con = snowflake.connector.connect(\n",
    "    user = 'yuchengliu',\n",
    "    password = sf_pw,\n",
    "    account = 'ed01722.us-east4.gcp',\n",
    "    warehouse = 'COMPUTE_WH'\n",
    ")\n",
    "con.cursor()\n",
    "print(\"Snowflake Connected Successfully!\")"
   ]
  },
  {
   "cell_type": "markdown",
   "id": "36d51268",
   "metadata": {},
   "source": [
    "Helper Function(s)"
   ]
  },
  {
   "cell_type": "code",
   "execution_count": 4,
   "id": "7e6ec0b3",
   "metadata": {},
   "outputs": [],
   "source": [
    "#get_sf_data function retrieves data from snowflake by executing a SQL query and returns the results in dataframe for analysis.\n",
    "def get_sf_data(query):\n",
    "    sql = query \n",
    "    output_df = pd.read_sql(sql, con)\n",
    "    return output_df\n",
    "\n",
    "def get_simple_plot(dataframe_column, title, x_lable, y_lable, width):\n",
    "    plt.figure(figsize=(6, 4))\n",
    "    sns.histplot(dataframe_column, kde=True, binwidth=width)\n",
    "    plt.title(title)\n",
    "    plt.xlabel(x_lable)\n",
    "    plt.ylabel(y_lable)\n",
    "    plt.tight_layout()\n",
    "    plt.show()"
   ]
  },
  {
   "cell_type": "markdown",
   "id": "bfe2c512",
   "metadata": {},
   "source": [
    "### **Question 1**  \n",
    "Draw an entity-relationship diagram for the data. Indicate the cardinality of the relationships."
   ]
  },
  {
   "cell_type": "markdown",
   "id": "34d9bbfc",
   "metadata": {},
   "source": [
    "![title](table_relationship_diagram.png)\n"
   ]
  },
  {
   "cell_type": "markdown",
   "id": "fd607853",
   "metadata": {},
   "source": [
    "### **Question 2**  \n",
    "Load the CSV files into a SQL database."
   ]
  },
  {
   "cell_type": "markdown",
   "id": "273d3735",
   "metadata": {},
   "source": [
    "I created a free Snowflake account and uploaded the three CSV files. Below is a screenshot of the datasets after they were successfully loaded.  "
   ]
  },
  {
   "cell_type": "markdown",
   "metadata": {},
   "source": [
    "![title](screenshot_sf.png)"
   ]
  },
  {
   "cell_type": "markdown",
   "id": "e99b306f",
   "metadata": {},
   "source": [
    "### **Question 3**\n",
    "Calculate and plot the following distributions\n",
    "\n",
    "#### **a. Number of accounts per user**"
   ]
  },
  {
   "cell_type": "code",
   "execution_count": 5,
   "id": "f99b97d7",
   "metadata": {},
   "outputs": [
    {
     "name": "stderr",
     "output_type": "stream",
     "text": [
      "/var/folders/4l/t9877gg17j99nd_pc56r_pq40000gn/T/ipykernel_78609/2586534245.py:4: UserWarning: pandas only supports SQLAlchemy connectable (engine/connection) or database string URI or sqlite3 DBAPI2 connection. Other DBAPI2 objects are not tested. Please consider using SQLAlchemy.\n",
      "  output_df = pd.read_sql(sql, con)\n"
     ]
    },
    {
     "data": {
      "text/html": [
       "<div>\n",
       "<style scoped>\n",
       "    .dataframe tbody tr th:only-of-type {\n",
       "        vertical-align: middle;\n",
       "    }\n",
       "\n",
       "    .dataframe tbody tr th {\n",
       "        vertical-align: top;\n",
       "    }\n",
       "\n",
       "    .dataframe thead th {\n",
       "        text-align: right;\n",
       "    }\n",
       "</style>\n",
       "<table border=\"1\" class=\"dataframe\">\n",
       "  <thead>\n",
       "    <tr style=\"text-align: right;\">\n",
       "      <th></th>\n",
       "      <th>USER_ID</th>\n",
       "      <th>NUMBER_OF_ACCOUNTS</th>\n",
       "    </tr>\n",
       "  </thead>\n",
       "  <tbody>\n",
       "    <tr>\n",
       "      <th>0</th>\n",
       "      <td>28c6d03ee715c3c6a69cd960ca404123</td>\n",
       "      <td>130</td>\n",
       "    </tr>\n",
       "    <tr>\n",
       "      <th>1</th>\n",
       "      <td>2728a6faf3a6de76ca9fcb456f583dc8</td>\n",
       "      <td>17</td>\n",
       "    </tr>\n",
       "    <tr>\n",
       "      <th>2</th>\n",
       "      <td>5867ac641fb362074ac1bc6dde7f0c5f</td>\n",
       "      <td>16</td>\n",
       "    </tr>\n",
       "    <tr>\n",
       "      <th>3</th>\n",
       "      <td>91c0fbdf1ce91ab3b175a5510f9a8a63</td>\n",
       "      <td>15</td>\n",
       "    </tr>\n",
       "    <tr>\n",
       "      <th>4</th>\n",
       "      <td>b200203a377aa50d31dd589ce5cc018f</td>\n",
       "      <td>12</td>\n",
       "    </tr>\n",
       "    <tr>\n",
       "      <th>5</th>\n",
       "      <td>c1942d1b8570cb346c3b55f28e0ddad5</td>\n",
       "      <td>11</td>\n",
       "    </tr>\n",
       "    <tr>\n",
       "      <th>6</th>\n",
       "      <td>bbb45a52e1a3bc9ac178a907c57d555b</td>\n",
       "      <td>11</td>\n",
       "    </tr>\n",
       "    <tr>\n",
       "      <th>7</th>\n",
       "      <td>8e9379e729b4439c32f81dec2f2fa569</td>\n",
       "      <td>10</td>\n",
       "    </tr>\n",
       "    <tr>\n",
       "      <th>8</th>\n",
       "      <td>a00acd0117e6cccfade7a09c65cbe204</td>\n",
       "      <td>10</td>\n",
       "    </tr>\n",
       "    <tr>\n",
       "      <th>9</th>\n",
       "      <td>9d5ca06f5661dbf5324f4aba3e509e9d</td>\n",
       "      <td>9</td>\n",
       "    </tr>\n",
       "  </tbody>\n",
       "</table>\n",
       "</div>"
      ],
      "text/plain": [
       "                            USER_ID  NUMBER_OF_ACCOUNTS\n",
       "0  28c6d03ee715c3c6a69cd960ca404123                 130\n",
       "1  2728a6faf3a6de76ca9fcb456f583dc8                  17\n",
       "2  5867ac641fb362074ac1bc6dde7f0c5f                  16\n",
       "3  91c0fbdf1ce91ab3b175a5510f9a8a63                  15\n",
       "4  b200203a377aa50d31dd589ce5cc018f                  12\n",
       "5  c1942d1b8570cb346c3b55f28e0ddad5                  11\n",
       "6  bbb45a52e1a3bc9ac178a907c57d555b                  11\n",
       "7  8e9379e729b4439c32f81dec2f2fa569                  10\n",
       "8  a00acd0117e6cccfade7a09c65cbe204                  10\n",
       "9  9d5ca06f5661dbf5324f4aba3e509e9d                   9"
      ]
     },
     "execution_count": 5,
     "metadata": {},
     "output_type": "execute_result"
    }
   ],
   "source": [
    "#The query counts the number of accounts for each user. We use LEFT JOIN here to ensure that uses with 0 accounts are also included.\n",
    "q3_a_query = f\"\"\"\n",
    "        SELECT u.user_id, COUNT(a.account_id) AS number_of_accounts\n",
    "        FROM COINBASE.PUBLIC.USERS u\n",
    "        LEFT JOIN COINBASE.PUBLIC.ACCOUNTS a ON u.user_id = a.user_id\n",
    "        GROUP BY 1\n",
    "        ORDER BY 2 DESC;\n",
    "\"\"\"\n",
    "\n",
    "#once the query is built, we can call get_sf_data function to retreive data in dataframe format.\n",
    "number_of_account_per_user = get_sf_data(q3_a_query)\n",
    "number_of_account_per_user.head(10)"
   ]
  },
  {
   "cell_type": "code",
   "execution_count": 6,
   "id": "4e3f6a57",
   "metadata": {},
   "outputs": [
    {
     "data": {
      "text/plain": [
       "count    1000.0000\n",
       "mean        4.7110\n",
       "std         4.1534\n",
       "min         2.0000\n",
       "25%         4.0000\n",
       "50%         4.0000\n",
       "75%         5.0000\n",
       "max       130.0000\n",
       "Name: NUMBER_OF_ACCOUNTS, dtype: float64"
      ]
     },
     "execution_count": 6,
     "metadata": {},
     "output_type": "execute_result"
    }
   ],
   "source": [
    "number_of_account_per_user['NUMBER_OF_ACCOUNTS'].describe()"
   ]
  },
  {
   "cell_type": "code",
   "execution_count": 7,
   "id": "2ae971b0",
   "metadata": {},
   "outputs": [
    {
     "data": {
      "image/png": "[encoded data removed]",
      "text/plain": [
       "<Figure size 600x400 with 1 Axes>"
      ]
     },
     "metadata": {},
     "output_type": "display_data"
    }
   ],
   "source": [
    "get_simple_plot(number_of_account_per_user['NUMBER_OF_ACCOUNTS'], 'Number of Accounts per User', 'Number of Accounts', 'Number of Users', 1)"
   ]
  },
  {
   "cell_type": "markdown",
   "id": "48eb7964",
   "metadata": {},
   "source": [
    "Looking at the number of accounts per user plot above, we can make a few observations:\n",
    "\n",
    "- Most users tend to have around 4 to 5 accounts, with a median of 4 accounts.  \n",
    "- The average number of accounts per user is about 4.71, but there's significant variation in account ownership, with the highest being 130 accounts.  \n",
    "- Most users have a small to moderate number of accounts, but there are some outliers with many accounts."
   ]
  },
  {
   "cell_type": "markdown",
   "id": "cb7c79ce",
   "metadata": {},
   "source": [
    "#### **b. Number of distinct currencies per user.**"
   ]
  },
  {
   "cell_type": "code",
   "execution_count": 8,
   "id": "98a7cdae",
   "metadata": {},
   "outputs": [
    {
     "name": "stderr",
     "output_type": "stream",
     "text": [
      "/var/folders/4l/t9877gg17j99nd_pc56r_pq40000gn/T/ipykernel_78609/2586534245.py:4: UserWarning: pandas only supports SQLAlchemy connectable (engine/connection) or database string URI or sqlite3 DBAPI2 connection. Other DBAPI2 objects are not tested. Please consider using SQLAlchemy.\n",
      "  output_df = pd.read_sql(sql, con)\n"
     ]
    },
    {
     "data": {
      "text/html": [
       "<div>\n",
       "<style scoped>\n",
       "    .dataframe tbody tr th:only-of-type {\n",
       "        vertical-align: middle;\n",
       "    }\n",
       "\n",
       "    .dataframe tbody tr th {\n",
       "        vertical-align: top;\n",
       "    }\n",
       "\n",
       "    .dataframe thead th {\n",
       "        text-align: right;\n",
       "    }\n",
       "</style>\n",
       "<table border=\"1\" class=\"dataframe\">\n",
       "  <thead>\n",
       "    <tr style=\"text-align: right;\">\n",
       "      <th></th>\n",
       "      <th>USER_ID</th>\n",
       "      <th>NUMBER_OF_DISTINCT_CURRENCIES</th>\n",
       "    </tr>\n",
       "  </thead>\n",
       "  <tbody>\n",
       "    <tr>\n",
       "      <th>0</th>\n",
       "      <td>befbddf34f71095d3fe49efd79a8996e</td>\n",
       "      <td>5</td>\n",
       "    </tr>\n",
       "    <tr>\n",
       "      <th>1</th>\n",
       "      <td>849b234ec990304fb126b8f5c4d80662</td>\n",
       "      <td>5</td>\n",
       "    </tr>\n",
       "    <tr>\n",
       "      <th>2</th>\n",
       "      <td>48cc9779135b57b6a8d4052e93bb843a</td>\n",
       "      <td>5</td>\n",
       "    </tr>\n",
       "    <tr>\n",
       "      <th>3</th>\n",
       "      <td>9809ea41344fe457cdf908e5c55562b4</td>\n",
       "      <td>5</td>\n",
       "    </tr>\n",
       "    <tr>\n",
       "      <th>4</th>\n",
       "      <td>e32a56807ab3e71bb5e07f7ffc8c5174</td>\n",
       "      <td>5</td>\n",
       "    </tr>\n",
       "    <tr>\n",
       "      <th>5</th>\n",
       "      <td>c8691d1c60e9537da42e187170ab369f</td>\n",
       "      <td>5</td>\n",
       "    </tr>\n",
       "    <tr>\n",
       "      <th>6</th>\n",
       "      <td>6b2f573b84f1cb31d3d6031016816d43</td>\n",
       "      <td>5</td>\n",
       "    </tr>\n",
       "    <tr>\n",
       "      <th>7</th>\n",
       "      <td>083743fdb35ded42d3b6cd68e2d3fa68</td>\n",
       "      <td>5</td>\n",
       "    </tr>\n",
       "    <tr>\n",
       "      <th>8</th>\n",
       "      <td>e860c1f7ee8c4ac2d1d1b060c93b2b44</td>\n",
       "      <td>5</td>\n",
       "    </tr>\n",
       "    <tr>\n",
       "      <th>9</th>\n",
       "      <td>8a769296f770704d32e2b754a29d85ea</td>\n",
       "      <td>5</td>\n",
       "    </tr>\n",
       "  </tbody>\n",
       "</table>\n",
       "</div>"
      ],
      "text/plain": [
       "                            USER_ID  NUMBER_OF_DISTINCT_CURRENCIES\n",
       "0  befbddf34f71095d3fe49efd79a8996e                              5\n",
       "1  849b234ec990304fb126b8f5c4d80662                              5\n",
       "2  48cc9779135b57b6a8d4052e93bb843a                              5\n",
       "3  9809ea41344fe457cdf908e5c55562b4                              5\n",
       "4  e32a56807ab3e71bb5e07f7ffc8c5174                              5\n",
       "5  c8691d1c60e9537da42e187170ab369f                              5\n",
       "6  6b2f573b84f1cb31d3d6031016816d43                              5\n",
       "7  083743fdb35ded42d3b6cd68e2d3fa68                              5\n",
       "8  e860c1f7ee8c4ac2d1d1b060c93b2b44                              5\n",
       "9  8a769296f770704d32e2b754a29d85ea                              5"
      ]
     },
     "execution_count": 8,
     "metadata": {},
     "output_type": "execute_result"
    }
   ],
   "source": [
    "q3_b_query = f\"\"\"\n",
    "            SELECT u.user_id, COUNT(DISTINCT(a.currency)) AS number_of_distinct_currencies\n",
    "            FROM COINBASE.PUBLIC.USERS u\n",
    "            LEFT JOIN COINBASE.PUBLIC.ACCOUNTS a ON u.user_id = a.user_id\n",
    "            GROUP BY 1\n",
    "            ORDER BY 2 DESC;\n",
    "\"\"\"\n",
    "\n",
    "number_of_currency_per_user = get_sf_data(q3_b_query)\n",
    "number_of_currency_per_user.head(10)"
   ]
  },
  {
   "cell_type": "code",
   "execution_count": 9,
   "id": "f6d6ee7c",
   "metadata": {},
   "outputs": [
    {
     "data": {
      "text/plain": [
       "count    1000.000000\n",
       "mean        3.371000\n",
       "std         0.712648\n",
       "min         2.000000\n",
       "25%         3.000000\n",
       "50%         3.000000\n",
       "75%         4.000000\n",
       "max         5.000000\n",
       "Name: NUMBER_OF_DISTINCT_CURRENCIES, dtype: float64"
      ]
     },
     "execution_count": 9,
     "metadata": {},
     "output_type": "execute_result"
    }
   ],
   "source": [
    "number_of_currency_per_user['NUMBER_OF_DISTINCT_CURRENCIES'].describe()"
   ]
  },
  {
   "cell_type": "code",
   "execution_count": 10,
   "id": "101d5020",
   "metadata": {},
   "outputs": [
    {
     "data": {
      "image/png": "[encoded data removed]",
      "text/plain": [
       "<Figure size 600x400 with 1 Axes>"
      ]
     },
     "metadata": {},
     "output_type": "display_data"
    }
   ],
   "source": [
    "get_simple_plot(number_of_currency_per_user['NUMBER_OF_DISTINCT_CURRENCIES'], 'Number of Distinct Currencies per User', 'Number of Currencies', 'Number of Users', 0.1)"
   ]
  },
  {
   "cell_type": "markdown",
   "id": "9f21747a",
   "metadata": {},
   "source": [
    "Most users tend to own between 3 and 4 types of currency, with relatively little variation. There are no extreme outliers, and only a few users own the maximum of 5 currencies. This indicates that users generally hold a small and similar range of currencies."
   ]
  },
  {
   "cell_type": "markdown",
   "id": "4591afda",
   "metadata": {},
   "source": [
    "#### **c. Number of days it takes for users to make their first deposit.**"
   ]
  },
  {
   "cell_type": "code",
   "execution_count": 11,
   "id": "2218a13f",
   "metadata": {},
   "outputs": [
    {
     "name": "stderr",
     "output_type": "stream",
     "text": [
      "/var/folders/4l/t9877gg17j99nd_pc56r_pq40000gn/T/ipykernel_78609/2586534245.py:4: UserWarning: pandas only supports SQLAlchemy connectable (engine/connection) or database string URI or sqlite3 DBAPI2 connection. Other DBAPI2 objects are not tested. Please consider using SQLAlchemy.\n",
      "  output_df = pd.read_sql(sql, con)\n"
     ]
    },
    {
     "data": {
      "text/html": [
       "<div>\n",
       "<style scoped>\n",
       "    .dataframe tbody tr th:only-of-type {\n",
       "        vertical-align: middle;\n",
       "    }\n",
       "\n",
       "    .dataframe tbody tr th {\n",
       "        vertical-align: top;\n",
       "    }\n",
       "\n",
       "    .dataframe thead th {\n",
       "        text-align: right;\n",
       "    }\n",
       "</style>\n",
       "<table border=\"1\" class=\"dataframe\">\n",
       "  <thead>\n",
       "    <tr style=\"text-align: right;\">\n",
       "      <th></th>\n",
       "      <th>USER_ID</th>\n",
       "      <th>CREATED_AT</th>\n",
       "      <th>DAYS_TO_FIRST_DEPOSIT</th>\n",
       "    </tr>\n",
       "  </thead>\n",
       "  <tbody>\n",
       "    <tr>\n",
       "      <th>0</th>\n",
       "      <td>c2ef646029858a80fd5b733c521e21e0</td>\n",
       "      <td>2013-04-21 20:11:35</td>\n",
       "      <td>1616</td>\n",
       "    </tr>\n",
       "    <tr>\n",
       "      <th>1</th>\n",
       "      <td>d82cff3eb5f74538e10aecc4f1416f78</td>\n",
       "      <td>2013-11-18 18:13:47</td>\n",
       "      <td>1389</td>\n",
       "    </tr>\n",
       "    <tr>\n",
       "      <th>2</th>\n",
       "      <td>6d9333dcb868de360c50c33364e8ea2a</td>\n",
       "      <td>2014-01-02 21:56:58</td>\n",
       "      <td>1374</td>\n",
       "    </tr>\n",
       "    <tr>\n",
       "      <th>3</th>\n",
       "      <td>4a06ae4f7b47874e85493a27dc2f42df</td>\n",
       "      <td>2013-12-13 15:19:28</td>\n",
       "      <td>1335</td>\n",
       "    </tr>\n",
       "    <tr>\n",
       "      <th>4</th>\n",
       "      <td>1eff7366e33c184a77cb2b41d61c2b65</td>\n",
       "      <td>2013-12-07 18:40:08</td>\n",
       "      <td>1310</td>\n",
       "    </tr>\n",
       "    <tr>\n",
       "      <th>5</th>\n",
       "      <td>6a092c1b4cdb7f1742c3a3719ab5929c</td>\n",
       "      <td>2014-04-12 13:01:29</td>\n",
       "      <td>1257</td>\n",
       "    </tr>\n",
       "    <tr>\n",
       "      <th>6</th>\n",
       "      <td>2d3ce8d1a5f086a4ee9efb36c5d1845e</td>\n",
       "      <td>2014-02-18 22:45:11</td>\n",
       "      <td>1211</td>\n",
       "    </tr>\n",
       "    <tr>\n",
       "      <th>7</th>\n",
       "      <td>ca4172f864238e8578a415e215713ea6</td>\n",
       "      <td>2014-06-20 16:59:36</td>\n",
       "      <td>1085</td>\n",
       "    </tr>\n",
       "    <tr>\n",
       "      <th>8</th>\n",
       "      <td>80a22e10cb53c3d3743fbe01ceec33dc</td>\n",
       "      <td>2014-01-09 05:00:47</td>\n",
       "      <td>1039</td>\n",
       "    </tr>\n",
       "    <tr>\n",
       "      <th>9</th>\n",
       "      <td>86c89b1ba16e4270bd4739c6b098735c</td>\n",
       "      <td>2014-11-23 10:05:02</td>\n",
       "      <td>881</td>\n",
       "    </tr>\n",
       "  </tbody>\n",
       "</table>\n",
       "</div>"
      ],
      "text/plain": [
       "                            USER_ID          CREATED_AT  DAYS_TO_FIRST_DEPOSIT\n",
       "0  c2ef646029858a80fd5b733c521e21e0 2013-04-21 20:11:35                   1616\n",
       "1  d82cff3eb5f74538e10aecc4f1416f78 2013-11-18 18:13:47                   1389\n",
       "2  6d9333dcb868de360c50c33364e8ea2a 2014-01-02 21:56:58                   1374\n",
       "3  4a06ae4f7b47874e85493a27dc2f42df 2013-12-13 15:19:28                   1335\n",
       "4  1eff7366e33c184a77cb2b41d61c2b65 2013-12-07 18:40:08                   1310\n",
       "5  6a092c1b4cdb7f1742c3a3719ab5929c 2014-04-12 13:01:29                   1257\n",
       "6  2d3ce8d1a5f086a4ee9efb36c5d1845e 2014-02-18 22:45:11                   1211\n",
       "7  ca4172f864238e8578a415e215713ea6 2014-06-20 16:59:36                   1085\n",
       "8  80a22e10cb53c3d3743fbe01ceec33dc 2014-01-09 05:00:47                   1039\n",
       "9  86c89b1ba16e4270bd4739c6b098735c 2014-11-23 10:05:02                    881"
      ]
     },
     "execution_count": 11,
     "metadata": {},
     "output_type": "execute_result"
    }
   ],
   "source": [
    "q3_c_query = f\"\"\"\n",
    "        SELECT u.user_id, u.created_at, DATEDIFF('day', u.created_at, MIN(l.created_at)) AS days_to_first_deposit\n",
    "        FROM COINBASE.PUBLIC.USERS u\n",
    "        JOIN COINBASE.PUBLIC.ACCOUNTS a ON u.user_id = a.user_id\n",
    "        JOIN COINBASE.PUBLIC.LEDGER l ON a.account_id = l.account_id\n",
    "        WHERE l.amount > 0\n",
    "        GROUP BY 1,2\n",
    "        ORDER BY 3 DESC;\n",
    "\"\"\"\n",
    "\n",
    "number_of_days_first_deposit = get_sf_data(q3_c_query)\n",
    "number_of_days_first_deposit.head(10)"
   ]
  },
  {
   "cell_type": "code",
   "execution_count": 12,
   "id": "c20c586b",
   "metadata": {},
   "outputs": [
    {
     "data": {
      "text/plain": [
       "count     991.000000\n",
       "mean       38.643794\n",
       "std       152.306692\n",
       "min         0.000000\n",
       "25%         0.000000\n",
       "50%         1.000000\n",
       "75%         9.000000\n",
       "max      1616.000000\n",
       "Name: DAYS_TO_FIRST_DEPOSIT, dtype: float64"
      ]
     },
     "execution_count": 12,
     "metadata": {},
     "output_type": "execute_result"
    }
   ],
   "source": [
    "number_of_days_first_deposit['DAYS_TO_FIRST_DEPOSIT'].describe()"
   ]
  },
  {
   "cell_type": "code",
   "execution_count": 13,
   "id": "7b78f1a4",
   "metadata": {},
   "outputs": [
    {
     "data": {
      "image/png": "[encoded data removed]",
      "text/plain": [
       "<Figure size 600x400 with 1 Axes>"
      ]
     },
     "metadata": {},
     "output_type": "display_data"
    }
   ],
   "source": [
    "get_simple_plot(number_of_days_first_deposit['DAYS_TO_FIRST_DEPOSIT'], 'Number of Days to Make The First Deposit', 'Number of Days', 'Number of Users', 30)"
   ]
  },
  {
   "cell_type": "markdown",
   "id": "94497942",
   "metadata": {},
   "source": [
    "On average, it takes about 39 days for users to make their first deposit. The majority of users (75%) make their first deposit within 9 days, and a significant portion do so on the same day. However, there is a wide range of behavior, as evidenced by the large standard deviation and maximum value, with some users taking much longer to deposit. "
   ]
  },
  {
   "cell_type": "markdown",
   "id": "7a5b3a06",
   "metadata": {},
   "source": [
    "#### **d. Number of days between a user’s first deposit and first withdrawal.**"
   ]
  },
  {
   "cell_type": "code",
   "execution_count": 14,
   "id": "483f7943",
   "metadata": {},
   "outputs": [
    {
     "name": "stderr",
     "output_type": "stream",
     "text": [
      "/var/folders/4l/t9877gg17j99nd_pc56r_pq40000gn/T/ipykernel_78609/2586534245.py:4: UserWarning: pandas only supports SQLAlchemy connectable (engine/connection) or database string URI or sqlite3 DBAPI2 connection. Other DBAPI2 objects are not tested. Please consider using SQLAlchemy.\n",
      "  output_df = pd.read_sql(sql, con)\n"
     ]
    },
    {
     "data": {
      "text/html": [
       "<div>\n",
       "<style scoped>\n",
       "    .dataframe tbody tr th:only-of-type {\n",
       "        vertical-align: middle;\n",
       "    }\n",
       "\n",
       "    .dataframe tbody tr th {\n",
       "        vertical-align: top;\n",
       "    }\n",
       "\n",
       "    .dataframe thead th {\n",
       "        text-align: right;\n",
       "    }\n",
       "</style>\n",
       "<table border=\"1\" class=\"dataframe\">\n",
       "  <thead>\n",
       "    <tr style=\"text-align: right;\">\n",
       "      <th></th>\n",
       "      <th>USER_ID</th>\n",
       "      <th>FIRST_DEPOSIT</th>\n",
       "      <th>FIRST_WITHDRAWAL</th>\n",
       "      <th>DAYS_BETWEEN_FIRST_DEPOSIT_AND_WITHDRAWAL</th>\n",
       "    </tr>\n",
       "  </thead>\n",
       "  <tbody>\n",
       "    <tr>\n",
       "      <th>0</th>\n",
       "      <td>dbdf77833ee48da25845672c57d4fa9a</td>\n",
       "      <td>2013-11-09 17:33:26</td>\n",
       "      <td>2017-08-04 16:18:36</td>\n",
       "      <td>1364</td>\n",
       "    </tr>\n",
       "    <tr>\n",
       "      <th>1</th>\n",
       "      <td>0404795663f0281a0b539a65ed02d603</td>\n",
       "      <td>2014-03-03 16:21:19</td>\n",
       "      <td>2017-08-15 14:11:52</td>\n",
       "      <td>1261</td>\n",
       "    </tr>\n",
       "    <tr>\n",
       "      <th>2</th>\n",
       "      <td>6f17e6561b710769b3d1bab508ff9348</td>\n",
       "      <td>2014-05-01 17:06:51</td>\n",
       "      <td>2017-07-08 17:32:33</td>\n",
       "      <td>1164</td>\n",
       "    </tr>\n",
       "    <tr>\n",
       "      <th>3</th>\n",
       "      <td>0bc6ff0fd6e0408352e7635812bdcc1b</td>\n",
       "      <td>2013-12-02 21:22:45</td>\n",
       "      <td>2017-01-25 17:56:35</td>\n",
       "      <td>1150</td>\n",
       "    </tr>\n",
       "    <tr>\n",
       "      <th>4</th>\n",
       "      <td>4aff5d412b4aab1863f0fde85dd20bc6</td>\n",
       "      <td>2014-02-24 20:24:06</td>\n",
       "      <td>2017-03-20 22:27:22</td>\n",
       "      <td>1120</td>\n",
       "    </tr>\n",
       "    <tr>\n",
       "      <th>5</th>\n",
       "      <td>05460fdf4361e1a43bb7b3f47acfffba</td>\n",
       "      <td>2014-10-13 03:17:38</td>\n",
       "      <td>2017-07-03 18:19:47</td>\n",
       "      <td>994</td>\n",
       "    </tr>\n",
       "    <tr>\n",
       "      <th>6</th>\n",
       "      <td>e32a56807ab3e71bb5e07f7ffc8c5174</td>\n",
       "      <td>2013-10-06 04:05:13</td>\n",
       "      <td>2016-06-18 02:39:40</td>\n",
       "      <td>986</td>\n",
       "    </tr>\n",
       "    <tr>\n",
       "      <th>7</th>\n",
       "      <td>e8da57cf4944935892307a0e05905e9d</td>\n",
       "      <td>2013-10-23 19:12:48</td>\n",
       "      <td>2016-03-21 22:53:46</td>\n",
       "      <td>880</td>\n",
       "    </tr>\n",
       "    <tr>\n",
       "      <th>8</th>\n",
       "      <td>70672d581cbe29ad2c5e98bc700b05a4</td>\n",
       "      <td>2015-04-04 18:36:01</td>\n",
       "      <td>2017-04-20 20:52:01</td>\n",
       "      <td>747</td>\n",
       "    </tr>\n",
       "    <tr>\n",
       "      <th>9</th>\n",
       "      <td>6f6ede625256deb8c1998456618c1b51</td>\n",
       "      <td>2014-02-26 23:24:53</td>\n",
       "      <td>2015-12-29 22:13:53</td>\n",
       "      <td>671</td>\n",
       "    </tr>\n",
       "  </tbody>\n",
       "</table>\n",
       "</div>"
      ],
      "text/plain": [
       "                            USER_ID       FIRST_DEPOSIT    FIRST_WITHDRAWAL  \\\n",
       "0  dbdf77833ee48da25845672c57d4fa9a 2013-11-09 17:33:26 2017-08-04 16:18:36   \n",
       "1  0404795663f0281a0b539a65ed02d603 2014-03-03 16:21:19 2017-08-15 14:11:52   \n",
       "2  6f17e6561b710769b3d1bab508ff9348 2014-05-01 17:06:51 2017-07-08 17:32:33   \n",
       "3  0bc6ff0fd6e0408352e7635812bdcc1b 2013-12-02 21:22:45 2017-01-25 17:56:35   \n",
       "4  4aff5d412b4aab1863f0fde85dd20bc6 2014-02-24 20:24:06 2017-03-20 22:27:22   \n",
       "5  05460fdf4361e1a43bb7b3f47acfffba 2014-10-13 03:17:38 2017-07-03 18:19:47   \n",
       "6  e32a56807ab3e71bb5e07f7ffc8c5174 2013-10-06 04:05:13 2016-06-18 02:39:40   \n",
       "7  e8da57cf4944935892307a0e05905e9d 2013-10-23 19:12:48 2016-03-21 22:53:46   \n",
       "8  70672d581cbe29ad2c5e98bc700b05a4 2015-04-04 18:36:01 2017-04-20 20:52:01   \n",
       "9  6f6ede625256deb8c1998456618c1b51 2014-02-26 23:24:53 2015-12-29 22:13:53   \n",
       "\n",
       "   DAYS_BETWEEN_FIRST_DEPOSIT_AND_WITHDRAWAL  \n",
       "0                                       1364  \n",
       "1                                       1261  \n",
       "2                                       1164  \n",
       "3                                       1150  \n",
       "4                                       1120  \n",
       "5                                        994  \n",
       "6                                        986  \n",
       "7                                        880  \n",
       "8                                        747  \n",
       "9                                        671  "
      ]
     },
     "execution_count": 14,
     "metadata": {},
     "output_type": "execute_result"
    }
   ],
   "source": [
    "q3_d_query = f\"\"\"\n",
    "        SELECT u.user_id,\n",
    "            MIN(CASE WHEN l.amount > 0 THEN l.created_at END) AS first_deposit,\n",
    "            MIN(CASE WHEN l.amount < 0 THEN l.created_at END) AS first_withdrawal,\n",
    "            DATEDIFF(\n",
    "                'day', \n",
    "                MIN(CASE WHEN l.amount > 0 THEN l.created_at END),  -- First deposit date\n",
    "                MIN(CASE WHEN l.amount < 0 THEN l.created_at END)   -- First withdrawal date\n",
    "            ) AS days_between_first_deposit_and_withdrawal\n",
    "        FROM \n",
    "            COINBASE.PUBLIC.USERS u\n",
    "        JOIN \n",
    "            COINBASE.PUBLIC.ACCOUNTS a ON u.user_id = a.user_id\n",
    "        JOIN \n",
    "            COINBASE.PUBLIC.LEDGER l ON a.account_id = l.account_id\n",
    "        GROUP BY 1\n",
    "        HAVING days_between_first_deposit_and_withdrawal IS NOT NULL\n",
    "        ORDER BY 4 DESC;\n",
    "\"\"\"\n",
    "\n",
    "number_of_days_first_deposit_and_first_withdrawal = get_sf_data(q3_d_query)\n",
    "number_of_days_first_deposit_and_first_withdrawal.head(10)"
   ]
  },
  {
   "cell_type": "code",
   "execution_count": 15,
   "id": "87b15073",
   "metadata": {},
   "outputs": [
    {
     "data": {
      "text/plain": [
       "count     687.000000\n",
       "mean       36.621543\n",
       "std       142.286870\n",
       "min         0.000000\n",
       "25%         0.000000\n",
       "50%         2.000000\n",
       "75%        12.000000\n",
       "max      1364.000000\n",
       "Name: DAYS_BETWEEN_FIRST_DEPOSIT_AND_WITHDRAWAL, dtype: float64"
      ]
     },
     "execution_count": 15,
     "metadata": {},
     "output_type": "execute_result"
    }
   ],
   "source": [
    "number_of_days_first_deposit_and_first_withdrawal['DAYS_BETWEEN_FIRST_DEPOSIT_AND_WITHDRAWAL'].describe()"
   ]
  },
  {
   "cell_type": "code",
   "execution_count": 16,
   "id": "2db6d4b1",
   "metadata": {},
   "outputs": [
    {
     "data": {
      "image/png": "[encoded data removed]",
      "text/plain": [
       "<Figure size 600x400 with 1 Axes>"
      ]
     },
     "metadata": {},
     "output_type": "display_data"
    }
   ],
   "source": [
    "get_simple_plot(number_of_days_first_deposit_and_first_withdrawal['DAYS_BETWEEN_FIRST_DEPOSIT_AND_WITHDRAWAL'], 'Number of Days between First Deposit and First Withdrawal', 'Number of Days', 'Number of Users', 25)"
   ]
  },
  {
   "cell_type": "markdown",
   "id": "db5b2f24",
   "metadata": {},
   "source": [
    "On average, it takes about 37 days for users to make their first withdrawal after their first deposit. Most users (75%) make their first withdrawal within 12 days of their first deposit, with half doing so in just 2 days. However, the distribution is highly skewed, as few users do not make their first withdrawal over 1,000 days (3+ years).  "
   ]
  },
  {
   "cell_type": "markdown",
   "id": "465c546e",
   "metadata": {},
   "source": [
    "### **Question 4**\n",
    "Task: Calculate and present the following:  \n",
    "\n",
    "- High risk: Users with a score of 50 or higher  \n",
    "- Medium risk: Users with a score between 10 and 49  \n",
    "- Low risk: Users with a score below 10  \n",
    "\n",
    "#### **a. Average transaction volume for high risk, medium risk, and low risk customers** "
   ]
  },
  {
   "cell_type": "code",
   "execution_count": 17,
   "id": "23419c0f",
   "metadata": {},
   "outputs": [
    {
     "name": "stderr",
     "output_type": "stream",
     "text": [
      "/var/folders/4l/t9877gg17j99nd_pc56r_pq40000gn/T/ipykernel_78609/2586534245.py:4: UserWarning: pandas only supports SQLAlchemy connectable (engine/connection) or database string URI or sqlite3 DBAPI2 connection. Other DBAPI2 objects are not tested. Please consider using SQLAlchemy.\n",
      "  output_df = pd.read_sql(sql, con)\n"
     ]
    },
    {
     "data": {
      "text/html": [
       "<div>\n",
       "<style scoped>\n",
       "    .dataframe tbody tr th:only-of-type {\n",
       "        vertical-align: middle;\n",
       "    }\n",
       "\n",
       "    .dataframe tbody tr th {\n",
       "        vertical-align: top;\n",
       "    }\n",
       "\n",
       "    .dataframe thead th {\n",
       "        text-align: right;\n",
       "    }\n",
       "</style>\n",
       "<table border=\"1\" class=\"dataframe\">\n",
       "  <thead>\n",
       "    <tr style=\"text-align: right;\">\n",
       "      <th></th>\n",
       "      <th>RISK_RATING</th>\n",
       "      <th>AVERAGE_TRANSACTION_VOLUME</th>\n",
       "      <th>AVERAGE_TRANSACTION_AMOUNT</th>\n",
       "    </tr>\n",
       "  </thead>\n",
       "  <tbody>\n",
       "    <tr>\n",
       "      <th>0</th>\n",
       "      <td>High Risk</td>\n",
       "      <td>539</td>\n",
       "      <td>0.017464</td>\n",
       "    </tr>\n",
       "    <tr>\n",
       "      <th>1</th>\n",
       "      <td>Low Risk</td>\n",
       "      <td>7707</td>\n",
       "      <td>0.158985</td>\n",
       "    </tr>\n",
       "    <tr>\n",
       "      <th>2</th>\n",
       "      <td>Medium Risk</td>\n",
       "      <td>15825</td>\n",
       "      <td>0.138432</td>\n",
       "    </tr>\n",
       "    <tr>\n",
       "      <th>3</th>\n",
       "      <td>Unknown Risk</td>\n",
       "      <td>719</td>\n",
       "      <td>-0.027104</td>\n",
       "    </tr>\n",
       "  </tbody>\n",
       "</table>\n",
       "</div>"
      ],
      "text/plain": [
       "    RISK_RATING  AVERAGE_TRANSACTION_VOLUME  AVERAGE_TRANSACTION_AMOUNT\n",
       "0     High Risk                         539                    0.017464\n",
       "1      Low Risk                        7707                    0.158985\n",
       "2   Medium Risk                       15825                    0.138432\n",
       "3  Unknown Risk                         719                   -0.027104"
      ]
     },
     "execution_count": 17,
     "metadata": {},
     "output_type": "execute_result"
    }
   ],
   "source": [
    "q4_a_query = f\"\"\"\n",
    "        SELECT \n",
    "            CASE\n",
    "                WHEN u.risk_score IS NULL THEN 'Unknown Risk'\n",
    "                WHEN u.risk_score >= 50 THEN 'High Risk'\n",
    "                WHEN u.risk_score BETWEEN 10 AND 49 THEN 'Medium Risk'\n",
    "                ELSE 'Low Risk'\n",
    "            END AS risk_rating,\n",
    "            COUNT(l.ledger_entry_id) AS average_transaction_volume,\n",
    "            AVG(l.amount) AS average_transaction_amount\n",
    "        FROM \n",
    "            COINBASE.PUBLIC.USERS u\n",
    "        JOIN \n",
    "            COINBASE.PUBLIC.ACCOUNTS a ON u.user_id = a.user_id\n",
    "        JOIN \n",
    "            COINBASE.PUBLIC.LEDGER l ON a.account_id = l.account_id\n",
    "        GROUP BY 1\n",
    "        ORDER BY 1;\n",
    "\"\"\"\n",
    "\n",
    "avg_transaction_for_each_risk = get_sf_data(q4_a_query)\n",
    "avg_transaction_for_each_risk"
   ]
  },
  {
   "cell_type": "markdown",
   "id": "fcb0dccb",
   "metadata": {},
   "source": [
    "#### **b. Average number of accounts for high risk, medium risk, and low risk customers**"
   ]
  },
  {
   "cell_type": "code",
   "execution_count": 18,
   "id": "a26e8d9c",
   "metadata": {},
   "outputs": [
    {
     "name": "stderr",
     "output_type": "stream",
     "text": [
      "/var/folders/4l/t9877gg17j99nd_pc56r_pq40000gn/T/ipykernel_78609/2586534245.py:4: UserWarning: pandas only supports SQLAlchemy connectable (engine/connection) or database string URI or sqlite3 DBAPI2 connection. Other DBAPI2 objects are not tested. Please consider using SQLAlchemy.\n",
      "  output_df = pd.read_sql(sql, con)\n"
     ]
    },
    {
     "data": {
      "text/html": [
       "<div>\n",
       "<style scoped>\n",
       "    .dataframe tbody tr th:only-of-type {\n",
       "        vertical-align: middle;\n",
       "    }\n",
       "\n",
       "    .dataframe tbody tr th {\n",
       "        vertical-align: top;\n",
       "    }\n",
       "\n",
       "    .dataframe thead th {\n",
       "        text-align: right;\n",
       "    }\n",
       "</style>\n",
       "<table border=\"1\" class=\"dataframe\">\n",
       "  <thead>\n",
       "    <tr style=\"text-align: right;\">\n",
       "      <th></th>\n",
       "      <th>RISK_RATING</th>\n",
       "      <th>AVERAGE_NUMBER_OF_ACCOUNTS</th>\n",
       "    </tr>\n",
       "  </thead>\n",
       "  <tbody>\n",
       "    <tr>\n",
       "      <th>0</th>\n",
       "      <td>High Risk</td>\n",
       "      <td>4.461538</td>\n",
       "    </tr>\n",
       "    <tr>\n",
       "      <th>1</th>\n",
       "      <td>Low Risk</td>\n",
       "      <td>5.660000</td>\n",
       "    </tr>\n",
       "    <tr>\n",
       "      <th>2</th>\n",
       "      <td>Medium Risk</td>\n",
       "      <td>4.735294</td>\n",
       "    </tr>\n",
       "    <tr>\n",
       "      <th>3</th>\n",
       "      <td>Unknown Risk</td>\n",
       "      <td>3.650273</td>\n",
       "    </tr>\n",
       "  </tbody>\n",
       "</table>\n",
       "</div>"
      ],
      "text/plain": [
       "    RISK_RATING  AVERAGE_NUMBER_OF_ACCOUNTS\n",
       "0     High Risk                    4.461538\n",
       "1      Low Risk                    5.660000\n",
       "2   Medium Risk                    4.735294\n",
       "3  Unknown Risk                    3.650273"
      ]
     },
     "execution_count": 18,
     "metadata": {},
     "output_type": "execute_result"
    }
   ],
   "source": [
    "q4_b_query = f\"\"\"\n",
    "            WITH user_account_counts_with_risk_rating AS (\n",
    "                SELECT \n",
    "                    u.user_id,\n",
    "                    COUNT(a.account_id) AS number_of_accounts,\n",
    "                    CASE \n",
    "                        WHEN u.risk_score IS NULL THEN 'Unknown Risk'\n",
    "                        WHEN u.risk_score >= 50 THEN 'High Risk'\n",
    "                        WHEN u.risk_score BETWEEN 10 AND 49 THEN 'Medium Risk'\n",
    "                        ELSE 'Low Risk'\n",
    "                    END AS risk_rating\n",
    "                FROM \n",
    "                    COINBASE.PUBLIC.USERS u\n",
    "                LEFT JOIN \n",
    "                    COINBASE.PUBLIC.ACCOUNTS a ON u.user_id = a.user_id\n",
    "                GROUP BY \n",
    "                    u.user_id, u.risk_score\n",
    "            )\n",
    "            SELECT risk_rating, AVG(number_of_accounts) AS average_number_of_accounts\n",
    "            FROM user_account_counts_with_risk_rating\n",
    "            GROUP BY 1\n",
    "            ORDER BY 1;\n",
    "\"\"\"\n",
    "\n",
    "avg_account_for_each_risk = get_sf_data(q4_b_query)\n",
    "avg_account_for_each_risk"
   ]
  },
  {
   "cell_type": "code",
   "execution_count": 19,
   "id": "cba1d33b",
   "metadata": {},
   "outputs": [
    {
     "data": {
      "image/png": "[encoded data removed]",
      "text/plain": [
       "<Figure size 2800x800 with 3 Axes>"
      ]
     },
     "metadata": {},
     "output_type": "display_data"
    }
   ],
   "source": [
    "fig, axes = plt.subplots(nrows=1, ncols=3, figsize=(28, 8))\n",
    "\n",
    "sns.barplot(x='RISK_RATING', y='AVERAGE_TRANSACTION_VOLUME', data=avg_transaction_for_each_risk, ax=axes[0], color='orange') \n",
    "axes[0].set_title('Number of Transactions Per Risk', size = 25)\n",
    "axes[0].set_xlabel('Risk Rating', size = 20)\n",
    "axes[0].set_ylabel('Number of Transactions', size = 20)\n",
    "\n",
    "sns.barplot(x='RISK_RATING', y='AVERAGE_TRANSACTION_AMOUNT', data=avg_transaction_for_each_risk, ax=axes[1], color='red') \n",
    "axes[1].set_title('Transaction Amount Per Risk', size = 25)\n",
    "axes[1].set_xlabel('Risk Rating', size = 20)\n",
    "axes[1].set_ylabel('Average Amount', size = 20)\n",
    "\n",
    "sns.barplot(x='RISK_RATING', y='AVERAGE_NUMBER_OF_ACCOUNTS', data=avg_account_for_each_risk, ax=axes[2])\n",
    "axes[2].set_title('Number of Accounts Per Risk', size = 25)\n",
    "axes[2].set_xlabel('Risk Rating', size = 20)\n",
    "axes[2].set_ylabel('Number of Accounts', size = 20)\n",
    "\n",
    "plt.show()"
   ]
  },
  {
   "cell_type": "markdown",
   "id": "dd8151f6",
   "metadata": {},
   "source": [
    "The two plots on the left display the distribution of the number of transactions and the average transaction amount, highlighting that Low Risk and Medium Risk users rank the highest in both. We can speculate that this trend may be due to the fact that lower and medium-risk users are generally more active, both in terms of the number of transactions and the amounts they trade.\n",
    "\n",
    "From the third graph, we observe that users with Low Risk ratings often hold more accounts, possibly indicating higher levels of trust or engagement with the platform. Medium Risk users have a slightly lower average number of accounts.\n",
    "\n",
    "Please note that we accounted for 'Unknown Risk' to include users with a null value in their risk rating. Additionally, we need to pay attention to these users, as they show a negative transaction volume, which might suggest data inconsistencies, errors, or irregular behavior within this group. Further investigation may be needed to understand this outcome.\n",
    "\n",
    "From all three charts, we can confirm that High Risk users exhibit less activity on the platform."
   ]
  },
  {
   "cell_type": "markdown",
   "id": "c7b5b06f",
   "metadata": {},
   "source": [
    "### **Question 5**\n",
    "Task: Calculate and present the following in a table at user level:  \n",
    "\n",
    "#### **a. A True/False indicator for users with multiple crypto accounts.** "
   ]
  },
  {
   "cell_type": "code",
   "execution_count": 20,
   "id": "e95d5ab8",
   "metadata": {},
   "outputs": [
    {
     "name": "stderr",
     "output_type": "stream",
     "text": [
      "/var/folders/4l/t9877gg17j99nd_pc56r_pq40000gn/T/ipykernel_78609/2586534245.py:4: UserWarning: pandas only supports SQLAlchemy connectable (engine/connection) or database string URI or sqlite3 DBAPI2 connection. Other DBAPI2 objects are not tested. Please consider using SQLAlchemy.\n",
      "  output_df = pd.read_sql(sql, con)\n"
     ]
    },
    {
     "data": {
      "text/html": [
       "<div>\n",
       "<style scoped>\n",
       "    .dataframe tbody tr th:only-of-type {\n",
       "        vertical-align: middle;\n",
       "    }\n",
       "\n",
       "    .dataframe tbody tr th {\n",
       "        vertical-align: top;\n",
       "    }\n",
       "\n",
       "    .dataframe thead th {\n",
       "        text-align: right;\n",
       "    }\n",
       "</style>\n",
       "<table border=\"1\" class=\"dataframe\">\n",
       "  <thead>\n",
       "    <tr style=\"text-align: right;\">\n",
       "      <th></th>\n",
       "      <th>USER_ID</th>\n",
       "      <th>COUNT(A.ACCOUNT_ID)</th>\n",
       "      <th>IF_HAS_MULTIPLE_CRYPTO_ACCOUNTS</th>\n",
       "    </tr>\n",
       "  </thead>\n",
       "  <tbody>\n",
       "    <tr>\n",
       "      <th>0</th>\n",
       "      <td>7eada1d64b13b21d77bc26832bdf7983</td>\n",
       "      <td>2</td>\n",
       "      <td>True</td>\n",
       "    </tr>\n",
       "    <tr>\n",
       "      <th>1</th>\n",
       "      <td>5373af5aebe3961845324389c139569d</td>\n",
       "      <td>2</td>\n",
       "      <td>True</td>\n",
       "    </tr>\n",
       "    <tr>\n",
       "      <th>2</th>\n",
       "      <td>bb95dc4321d1d632c061e743786be997</td>\n",
       "      <td>2</td>\n",
       "      <td>True</td>\n",
       "    </tr>\n",
       "    <tr>\n",
       "      <th>3</th>\n",
       "      <td>8f9adbb6173f237800afa131ff2bb6c4</td>\n",
       "      <td>2</td>\n",
       "      <td>True</td>\n",
       "    </tr>\n",
       "    <tr>\n",
       "      <th>4</th>\n",
       "      <td>4aff5d412b4aab1863f0fde85dd20bc6</td>\n",
       "      <td>2</td>\n",
       "      <td>True</td>\n",
       "    </tr>\n",
       "    <tr>\n",
       "      <th>...</th>\n",
       "      <td>...</td>\n",
       "      <td>...</td>\n",
       "      <td>...</td>\n",
       "    </tr>\n",
       "    <tr>\n",
       "      <th>995</th>\n",
       "      <td>e732281a7f72f6d047ed9bf9eb3ab798</td>\n",
       "      <td>7</td>\n",
       "      <td>True</td>\n",
       "    </tr>\n",
       "    <tr>\n",
       "      <th>996</th>\n",
       "      <td>91c0fbdf1ce91ab3b175a5510f9a8a63</td>\n",
       "      <td>11</td>\n",
       "      <td>True</td>\n",
       "    </tr>\n",
       "    <tr>\n",
       "      <th>997</th>\n",
       "      <td>5867ac641fb362074ac1bc6dde7f0c5f</td>\n",
       "      <td>11</td>\n",
       "      <td>True</td>\n",
       "    </tr>\n",
       "    <tr>\n",
       "      <th>998</th>\n",
       "      <td>b200203a377aa50d31dd589ce5cc018f</td>\n",
       "      <td>11</td>\n",
       "      <td>True</td>\n",
       "    </tr>\n",
       "    <tr>\n",
       "      <th>999</th>\n",
       "      <td>2728a6faf3a6de76ca9fcb456f583dc8</td>\n",
       "      <td>16</td>\n",
       "      <td>True</td>\n",
       "    </tr>\n",
       "  </tbody>\n",
       "</table>\n",
       "<p>1000 rows × 3 columns</p>\n",
       "</div>"
      ],
      "text/plain": [
       "                              USER_ID  COUNT(A.ACCOUNT_ID)  \\\n",
       "0    7eada1d64b13b21d77bc26832bdf7983                    2   \n",
       "1    5373af5aebe3961845324389c139569d                    2   \n",
       "2    bb95dc4321d1d632c061e743786be997                    2   \n",
       "3    8f9adbb6173f237800afa131ff2bb6c4                    2   \n",
       "4    4aff5d412b4aab1863f0fde85dd20bc6                    2   \n",
       "..                                ...                  ...   \n",
       "995  e732281a7f72f6d047ed9bf9eb3ab798                    7   \n",
       "996  91c0fbdf1ce91ab3b175a5510f9a8a63                   11   \n",
       "997  5867ac641fb362074ac1bc6dde7f0c5f                   11   \n",
       "998  b200203a377aa50d31dd589ce5cc018f                   11   \n",
       "999  2728a6faf3a6de76ca9fcb456f583dc8                   16   \n",
       "\n",
       "    IF_HAS_MULTIPLE_CRYPTO_ACCOUNTS  \n",
       "0                              True  \n",
       "1                              True  \n",
       "2                              True  \n",
       "3                              True  \n",
       "4                              True  \n",
       "..                              ...  \n",
       "995                            True  \n",
       "996                            True  \n",
       "997                            True  \n",
       "998                            True  \n",
       "999                            True  \n",
       "\n",
       "[1000 rows x 3 columns]"
      ]
     },
     "execution_count": 20,
     "metadata": {},
     "output_type": "execute_result"
    }
   ],
   "source": [
    "q5_a_query = f\"\"\"\n",
    "            SELECT \n",
    "                u.user_id,\n",
    "                COUNT(a.account_id),\n",
    "                CASE \n",
    "                    WHEN COUNT(a.account_id) > 1 THEN 'True'\n",
    "                    ELSE 'False'\n",
    "                END AS if_has_multiple_crypto_accounts\n",
    "            FROM \n",
    "                COINBASE.PUBLIC.USERS u\n",
    "            LEFT JOIN \n",
    "                COINBASE.PUBLIC.ACCOUNTS a ON u.user_id = a.user_id\n",
    "            WHERE a.account_type = 'CryptoAccount'\n",
    "            GROUP BY 1\n",
    "            ORDER BY 2 ASC\n",
    "            ;\n",
    "\"\"\"\n",
    "\n",
    "tf_indicator_multiple_account = get_sf_data(q5_a_query)\n",
    "tf_indicator_multiple_account"
   ]
  },
  {
   "cell_type": "markdown",
   "id": "e1ee37e3",
   "metadata": {},
   "source": [
    "#### **b. A True/False indicator for users with multiple crypto accounts and not all of the accounts transacted**"
   ]
  },
  {
   "cell_type": "code",
   "execution_count": 21,
   "id": "44e4ff0c",
   "metadata": {},
   "outputs": [
    {
     "name": "stderr",
     "output_type": "stream",
     "text": [
      "/var/folders/4l/t9877gg17j99nd_pc56r_pq40000gn/T/ipykernel_78609/2586534245.py:4: UserWarning: pandas only supports SQLAlchemy connectable (engine/connection) or database string URI or sqlite3 DBAPI2 connection. Other DBAPI2 objects are not tested. Please consider using SQLAlchemy.\n",
      "  output_df = pd.read_sql(sql, con)\n"
     ]
    },
    {
     "data": {
      "text/html": [
       "<div>\n",
       "<style scoped>\n",
       "    .dataframe tbody tr th:only-of-type {\n",
       "        vertical-align: middle;\n",
       "    }\n",
       "\n",
       "    .dataframe tbody tr th {\n",
       "        vertical-align: top;\n",
       "    }\n",
       "\n",
       "    .dataframe thead th {\n",
       "        text-align: right;\n",
       "    }\n",
       "</style>\n",
       "<table border=\"1\" class=\"dataframe\">\n",
       "  <thead>\n",
       "    <tr style=\"text-align: right;\">\n",
       "      <th></th>\n",
       "      <th>USER_ID</th>\n",
       "      <th>HAS_MULTIPLE_ACCOUNTS_AND_NOT_ALL_TRANSACTED</th>\n",
       "    </tr>\n",
       "  </thead>\n",
       "  <tbody>\n",
       "    <tr>\n",
       "      <th>0</th>\n",
       "      <td>c2baf83dab4b07c7d5064a05bda37f5e</td>\n",
       "      <td>False</td>\n",
       "    </tr>\n",
       "    <tr>\n",
       "      <th>1</th>\n",
       "      <td>befbddf34f71095d3fe49efd79a8996e</td>\n",
       "      <td>False</td>\n",
       "    </tr>\n",
       "    <tr>\n",
       "      <th>2</th>\n",
       "      <td>907aafae0fcfc370fbd7463c4ce989b7</td>\n",
       "      <td>False</td>\n",
       "    </tr>\n",
       "    <tr>\n",
       "      <th>3</th>\n",
       "      <td>c2b8ccffdd0a79fcb91ac1e3017bd2ff</td>\n",
       "      <td>False</td>\n",
       "    </tr>\n",
       "    <tr>\n",
       "      <th>4</th>\n",
       "      <td>20a340c088f1638c778a1cfcac4d8e77</td>\n",
       "      <td>False</td>\n",
       "    </tr>\n",
       "    <tr>\n",
       "      <th>...</th>\n",
       "      <td>...</td>\n",
       "      <td>...</td>\n",
       "    </tr>\n",
       "    <tr>\n",
       "      <th>995</th>\n",
       "      <td>69b8fc22e62176c6ca474d5b834a22f2</td>\n",
       "      <td>True</td>\n",
       "    </tr>\n",
       "    <tr>\n",
       "      <th>996</th>\n",
       "      <td>6a3a9316a22f9d714c0a8f0c916e9b82</td>\n",
       "      <td>True</td>\n",
       "    </tr>\n",
       "    <tr>\n",
       "      <th>997</th>\n",
       "      <td>6af9244d20fc021270214e22c33a46f8</td>\n",
       "      <td>True</td>\n",
       "    </tr>\n",
       "    <tr>\n",
       "      <th>998</th>\n",
       "      <td>6b2f573b84f1cb31d3d6031016816d43</td>\n",
       "      <td>True</td>\n",
       "    </tr>\n",
       "    <tr>\n",
       "      <th>999</th>\n",
       "      <td>6ba36e3a48300c0344e82b7c1a064925</td>\n",
       "      <td>True</td>\n",
       "    </tr>\n",
       "  </tbody>\n",
       "</table>\n",
       "<p>1000 rows × 2 columns</p>\n",
       "</div>"
      ],
      "text/plain": [
       "                              USER_ID  \\\n",
       "0    c2baf83dab4b07c7d5064a05bda37f5e   \n",
       "1    befbddf34f71095d3fe49efd79a8996e   \n",
       "2    907aafae0fcfc370fbd7463c4ce989b7   \n",
       "3    c2b8ccffdd0a79fcb91ac1e3017bd2ff   \n",
       "4    20a340c088f1638c778a1cfcac4d8e77   \n",
       "..                                ...   \n",
       "995  69b8fc22e62176c6ca474d5b834a22f2   \n",
       "996  6a3a9316a22f9d714c0a8f0c916e9b82   \n",
       "997  6af9244d20fc021270214e22c33a46f8   \n",
       "998  6b2f573b84f1cb31d3d6031016816d43   \n",
       "999  6ba36e3a48300c0344e82b7c1a064925   \n",
       "\n",
       "    HAS_MULTIPLE_ACCOUNTS_AND_NOT_ALL_TRANSACTED  \n",
       "0                                          False  \n",
       "1                                          False  \n",
       "2                                          False  \n",
       "3                                          False  \n",
       "4                                          False  \n",
       "..                                           ...  \n",
       "995                                         True  \n",
       "996                                         True  \n",
       "997                                         True  \n",
       "998                                         True  \n",
       "999                                         True  \n",
       "\n",
       "[1000 rows x 2 columns]"
      ]
     },
     "execution_count": 21,
     "metadata": {},
     "output_type": "execute_result"
    }
   ],
   "source": [
    "q5_b_query = f\"\"\"\n",
    "            WITH user_crypto_accounts AS (\n",
    "                SELECT \n",
    "                    u.user_id,\n",
    "                    a.account_id,\n",
    "                    COUNT(l.ledger_entry_id) AS transaction_count\n",
    "                FROM \n",
    "                    COINBASE.PUBLIC.USERS u\n",
    "                LEFT JOIN \n",
    "                    COINBASE.PUBLIC.ACCOUNTS a ON u.user_id = a.user_id\n",
    "                LEFT JOIN \n",
    "                    COINBASE.PUBLIC.LEDGER l ON a.account_id = l.account_id\n",
    "                WHERE a.account_type = 'CryptoAccount'\n",
    "                GROUP BY 1,2\n",
    "                ORDER BY 1,2\n",
    "            ),\n",
    "            users_with_multiple_accounts AS (\n",
    "                SELECT \n",
    "                    user_id,\n",
    "                    SUM(CASE WHEN transaction_count = 0 THEN 1 ELSE 0 END) AS accounts_without_transactions,\n",
    "                    COUNT(account_id) AS total_crypto_accounts\n",
    "                FROM \n",
    "                    user_crypto_accounts\n",
    "                GROUP BY \n",
    "                    user_id\n",
    "            )\n",
    "            SELECT \n",
    "                user_id,\n",
    "                CASE \n",
    "                    WHEN total_crypto_accounts > 1 AND accounts_without_transactions > 0 THEN 'True'\n",
    "                    ELSE 'False'\n",
    "                END AS has_multiple_accounts_and_not_all_transacted\n",
    "            FROM \n",
    "                users_with_multiple_accounts\n",
    "            ORDER BY \n",
    "                has_multiple_accounts_and_not_all_transacted;\n",
    "\"\"\"\n",
    "\n",
    "tf_indicator_multiple_account_not_all_transacted = get_sf_data(q5_b_query)\n",
    "tf_indicator_multiple_account_not_all_transacted"
   ]
  },
  {
   "cell_type": "markdown",
   "id": "09320067",
   "metadata": {},
   "source": [
    "#### **c. Returns a string that lists all the currencies transacted by each user, separated by the specified delimiter**"
   ]
  },
  {
   "cell_type": "code",
   "execution_count": 22,
   "id": "01ef1e78",
   "metadata": {},
   "outputs": [
    {
     "name": "stderr",
     "output_type": "stream",
     "text": [
      "/var/folders/4l/t9877gg17j99nd_pc56r_pq40000gn/T/ipykernel_78609/2586534245.py:4: UserWarning: pandas only supports SQLAlchemy connectable (engine/connection) or database string URI or sqlite3 DBAPI2 connection. Other DBAPI2 objects are not tested. Please consider using SQLAlchemy.\n",
      "  output_df = pd.read_sql(sql, con)\n"
     ]
    },
    {
     "data": {
      "text/html": [
       "<div>\n",
       "<style scoped>\n",
       "    .dataframe tbody tr th:only-of-type {\n",
       "        vertical-align: middle;\n",
       "    }\n",
       "\n",
       "    .dataframe tbody tr th {\n",
       "        vertical-align: top;\n",
       "    }\n",
       "\n",
       "    .dataframe thead th {\n",
       "        text-align: right;\n",
       "    }\n",
       "</style>\n",
       "<table border=\"1\" class=\"dataframe\">\n",
       "  <thead>\n",
       "    <tr style=\"text-align: right;\">\n",
       "      <th></th>\n",
       "      <th>USER_ID</th>\n",
       "      <th>TRANSACTED_CURRENCIES</th>\n",
       "    </tr>\n",
       "  </thead>\n",
       "  <tbody>\n",
       "    <tr>\n",
       "      <th>0</th>\n",
       "      <td>0045d07aa8c56b25d078c2920219fed8</td>\n",
       "      <td>BTC</td>\n",
       "    </tr>\n",
       "    <tr>\n",
       "      <th>1</th>\n",
       "      <td>00532657bb098803ee5b13b76ac739ed</td>\n",
       "      <td>ETH</td>\n",
       "    </tr>\n",
       "    <tr>\n",
       "      <th>2</th>\n",
       "      <td>006bae3ccde38fe8d5299c4123925b03</td>\n",
       "      <td>ETH, EUR</td>\n",
       "    </tr>\n",
       "    <tr>\n",
       "      <th>3</th>\n",
       "      <td>0086e30f8d8e1518156df8915269be34</td>\n",
       "      <td>BTC, ETH, USD</td>\n",
       "    </tr>\n",
       "    <tr>\n",
       "      <th>4</th>\n",
       "      <td>008793c7766aa0e097dfe58427b89389</td>\n",
       "      <td>BTC, ETH, LTC</td>\n",
       "    </tr>\n",
       "    <tr>\n",
       "      <th>...</th>\n",
       "      <td>...</td>\n",
       "      <td>...</td>\n",
       "    </tr>\n",
       "    <tr>\n",
       "      <th>995</th>\n",
       "      <td>ff04cd6c23d27b7f656f6dcdeb54c113</td>\n",
       "      <td>BTC</td>\n",
       "    </tr>\n",
       "    <tr>\n",
       "      <th>996</th>\n",
       "      <td>ff5db1be03c107913eb6b4a0c115ba33</td>\n",
       "      <td>BTC</td>\n",
       "    </tr>\n",
       "    <tr>\n",
       "      <th>997</th>\n",
       "      <td>ffad798bfe79dcf90a2b3ad0412bc8ac</td>\n",
       "      <td>BTC</td>\n",
       "    </tr>\n",
       "    <tr>\n",
       "      <th>998</th>\n",
       "      <td>ffbe66e9facf39781fd2c6e8b0f05af0</td>\n",
       "      <td>BTC</td>\n",
       "    </tr>\n",
       "    <tr>\n",
       "      <th>999</th>\n",
       "      <td>fffecf625f9b53bc7a0f2e3ce5589b27</td>\n",
       "      <td>BTC</td>\n",
       "    </tr>\n",
       "  </tbody>\n",
       "</table>\n",
       "<p>1000 rows × 2 columns</p>\n",
       "</div>"
      ],
      "text/plain": [
       "                              USER_ID TRANSACTED_CURRENCIES\n",
       "0    0045d07aa8c56b25d078c2920219fed8                   BTC\n",
       "1    00532657bb098803ee5b13b76ac739ed                   ETH\n",
       "2    006bae3ccde38fe8d5299c4123925b03              ETH, EUR\n",
       "3    0086e30f8d8e1518156df8915269be34         BTC, ETH, USD\n",
       "4    008793c7766aa0e097dfe58427b89389         BTC, ETH, LTC\n",
       "..                                ...                   ...\n",
       "995  ff04cd6c23d27b7f656f6dcdeb54c113                   BTC\n",
       "996  ff5db1be03c107913eb6b4a0c115ba33                   BTC\n",
       "997  ffad798bfe79dcf90a2b3ad0412bc8ac                   BTC\n",
       "998  ffbe66e9facf39781fd2c6e8b0f05af0                   BTC\n",
       "999  fffecf625f9b53bc7a0f2e3ce5589b27                   BTC\n",
       "\n",
       "[1000 rows x 2 columns]"
      ]
     },
     "execution_count": 22,
     "metadata": {},
     "output_type": "execute_result"
    }
   ],
   "source": [
    "q5_c_query = f\"\"\"\n",
    "            SELECT \n",
    "                u.user_id,\n",
    "                LISTAGG(DISTINCT a.currency, ', ') WITHIN GROUP (ORDER BY a.currency) AS transacted_currencies\n",
    "            FROM \n",
    "                COINBASE.PUBLIC.USERS u\n",
    "            JOIN \n",
    "                COINBASE.PUBLIC.ACCOUNTS a ON u.user_id = a.user_id\n",
    "            JOIN \n",
    "                COINBASE.PUBLIC.LEDGER l ON a.account_id = l.account_id\n",
    "            GROUP BY \n",
    "                u.user_id\n",
    "            ORDER BY \n",
    "                u.user_id;\n",
    "\"\"\"\n",
    "\n",
    "user_with_all_currencies = get_sf_data(q5_c_query)\n",
    "user_with_all_currencies"
   ]
  },
  {
   "cell_type": "markdown",
   "id": "8431ae56",
   "metadata": {},
   "source": [
    "#### **d. The latest time user conducted transactions in BTC currency**"
   ]
  },
  {
   "cell_type": "code",
   "execution_count": 23,
   "id": "0d5e3de9",
   "metadata": {},
   "outputs": [
    {
     "name": "stderr",
     "output_type": "stream",
     "text": [
      "/var/folders/4l/t9877gg17j99nd_pc56r_pq40000gn/T/ipykernel_78609/2586534245.py:4: UserWarning: pandas only supports SQLAlchemy connectable (engine/connection) or database string URI or sqlite3 DBAPI2 connection. Other DBAPI2 objects are not tested. Please consider using SQLAlchemy.\n",
      "  output_df = pd.read_sql(sql, con)\n"
     ]
    },
    {
     "data": {
      "text/html": [
       "<div>\n",
       "<style scoped>\n",
       "    .dataframe tbody tr th:only-of-type {\n",
       "        vertical-align: middle;\n",
       "    }\n",
       "\n",
       "    .dataframe tbody tr th {\n",
       "        vertical-align: top;\n",
       "    }\n",
       "\n",
       "    .dataframe thead th {\n",
       "        text-align: right;\n",
       "    }\n",
       "</style>\n",
       "<table border=\"1\" class=\"dataframe\">\n",
       "  <thead>\n",
       "    <tr style=\"text-align: right;\">\n",
       "      <th></th>\n",
       "      <th>USER_ID</th>\n",
       "      <th>LATEST_BTC_TRANSACTION_TIME</th>\n",
       "    </tr>\n",
       "  </thead>\n",
       "  <tbody>\n",
       "    <tr>\n",
       "      <th>0</th>\n",
       "      <td>48e077a9a49d2fc5a1a42ed43f8371ae</td>\n",
       "      <td>2017-10-09 21:33:14</td>\n",
       "    </tr>\n",
       "    <tr>\n",
       "      <th>1</th>\n",
       "      <td>8254f76a6974079f0836d16ee84a7c02</td>\n",
       "      <td>2017-10-09 21:07:17</td>\n",
       "    </tr>\n",
       "    <tr>\n",
       "      <th>2</th>\n",
       "      <td>6a1bc97218233d0e37d37f91e9d7c720</td>\n",
       "      <td>2017-10-09 20:44:12</td>\n",
       "    </tr>\n",
       "    <tr>\n",
       "      <th>3</th>\n",
       "      <td>953435c68c869ae5e7168feaccf810a2</td>\n",
       "      <td>2017-10-09 20:20:22</td>\n",
       "    </tr>\n",
       "    <tr>\n",
       "      <th>4</th>\n",
       "      <td>f217e3b3bf80478d9e20a7af394c22c6</td>\n",
       "      <td>2017-10-09 19:52:19</td>\n",
       "    </tr>\n",
       "    <tr>\n",
       "      <th>...</th>\n",
       "      <td>...</td>\n",
       "      <td>...</td>\n",
       "    </tr>\n",
       "    <tr>\n",
       "      <th>897</th>\n",
       "      <td>6008fbf25d71e0f0e13f04764fa32055</td>\n",
       "      <td>2013-05-19 22:35:02</td>\n",
       "    </tr>\n",
       "    <tr>\n",
       "      <th>898</th>\n",
       "      <td>2b495ebf929ec49af351009b68a44e9b</td>\n",
       "      <td>2013-05-13 21:03:05</td>\n",
       "    </tr>\n",
       "    <tr>\n",
       "      <th>899</th>\n",
       "      <td>b76d501637e09f52b5cf31b181dccc9b</td>\n",
       "      <td>2013-05-08 06:16:37</td>\n",
       "    </tr>\n",
       "    <tr>\n",
       "      <th>900</th>\n",
       "      <td>20b165036985eaa56473d8655452c405</td>\n",
       "      <td>2013-04-16 02:59:12</td>\n",
       "    </tr>\n",
       "    <tr>\n",
       "      <th>901</th>\n",
       "      <td>e86b9b54c39f982e6d83230ba6109d9d</td>\n",
       "      <td>2012-08-17 18:11:25</td>\n",
       "    </tr>\n",
       "  </tbody>\n",
       "</table>\n",
       "<p>902 rows × 2 columns</p>\n",
       "</div>"
      ],
      "text/plain": [
       "                              USER_ID LATEST_BTC_TRANSACTION_TIME\n",
       "0    48e077a9a49d2fc5a1a42ed43f8371ae         2017-10-09 21:33:14\n",
       "1    8254f76a6974079f0836d16ee84a7c02         2017-10-09 21:07:17\n",
       "2    6a1bc97218233d0e37d37f91e9d7c720         2017-10-09 20:44:12\n",
       "3    953435c68c869ae5e7168feaccf810a2         2017-10-09 20:20:22\n",
       "4    f217e3b3bf80478d9e20a7af394c22c6         2017-10-09 19:52:19\n",
       "..                                ...                         ...\n",
       "897  6008fbf25d71e0f0e13f04764fa32055         2013-05-19 22:35:02\n",
       "898  2b495ebf929ec49af351009b68a44e9b         2013-05-13 21:03:05\n",
       "899  b76d501637e09f52b5cf31b181dccc9b         2013-05-08 06:16:37\n",
       "900  20b165036985eaa56473d8655452c405         2013-04-16 02:59:12\n",
       "901  e86b9b54c39f982e6d83230ba6109d9d         2012-08-17 18:11:25\n",
       "\n",
       "[902 rows x 2 columns]"
      ]
     },
     "execution_count": 23,
     "metadata": {},
     "output_type": "execute_result"
    }
   ],
   "source": [
    "q5_d_query = f\"\"\"\n",
    "            SELECT \n",
    "                u.user_id,\n",
    "                MAX(l.created_at) AS latest_btc_transaction_time\n",
    "            FROM \n",
    "                COINBASE.PUBLIC.USERS u\n",
    "            JOIN \n",
    "                COINBASE.PUBLIC.ACCOUNTS a ON u.user_id = a.user_id\n",
    "            JOIN \n",
    "                COINBASE.PUBLIC.LEDGER l ON a.account_id = l.account_id\n",
    "            WHERE \n",
    "                a.currency = 'BTC' AND a.account_type = 'CryptoAccount'\n",
    "            GROUP BY \n",
    "                u.user_id\n",
    "            ORDER BY \n",
    "                latest_btc_transaction_time DESC;\n",
    "\"\"\"\n",
    "\n",
    "user_last_time_trade_btc = get_sf_data(q5_d_query)\n",
    "user_last_time_trade_btc"
   ]
  },
  {
   "cell_type": "code",
   "execution_count": 24,
   "id": "6d3d8705",
   "metadata": {},
   "outputs": [],
   "source": [
    "tf_indicator_multiple_account.to_csv('tf_indicator_multiple_account.csv')\n",
    "tf_indicator_multiple_account_not_all_transacted.to_csv('tf_indicator_multiple_account_not_all_transacted.csv')\n",
    "user_with_all_currencies.to_csv('user_with_all_currencies.csv')\n",
    "user_last_time_trade_btc.to_csv('user_last_time_trade_btc.csv')"
   ]
  },
  {
   "cell_type": "markdown",
   "id": "10f9cee2",
   "metadata": {},
   "source": [
    "For detailed tables, please refer to the output csv files - \n",
    "- tf_indicator_multiple_account.csv\n",
    "- tf_indicator_multiple_account_not_all_transacted.csv\n",
    "- user_with_all_currencies.csv\n",
    "- user_last_time_trade_btc.csv"
   ]
  },
  {
   "cell_type": "markdown",
   "id": "e2b17191",
   "metadata": {},
   "source": [
    "### **Question 6: Conduct an analysis on the following test:**\n",
    "For any high risk customer that created an account after January 1, 2017, and conducted transactions in USD more than twice, provide that result as a failed test. Provide rate of failure."
   ]
  },
  {
   "cell_type": "code",
   "execution_count": 25,
   "id": "89149027",
   "metadata": {},
   "outputs": [
    {
     "name": "stderr",
     "output_type": "stream",
     "text": [
      "/var/folders/4l/t9877gg17j99nd_pc56r_pq40000gn/T/ipykernel_78609/2586534245.py:4: UserWarning: pandas only supports SQLAlchemy connectable (engine/connection) or database string URI or sqlite3 DBAPI2 connection. Other DBAPI2 objects are not tested. Please consider using SQLAlchemy.\n",
      "  output_df = pd.read_sql(sql, con)\n"
     ]
    },
    {
     "data": {
      "text/html": [
       "<div>\n",
       "<style scoped>\n",
       "    .dataframe tbody tr th:only-of-type {\n",
       "        vertical-align: middle;\n",
       "    }\n",
       "\n",
       "    .dataframe tbody tr th {\n",
       "        vertical-align: top;\n",
       "    }\n",
       "\n",
       "    .dataframe thead th {\n",
       "        text-align: right;\n",
       "    }\n",
       "</style>\n",
       "<table border=\"1\" class=\"dataframe\">\n",
       "  <thead>\n",
       "    <tr style=\"text-align: right;\">\n",
       "      <th></th>\n",
       "      <th>FAILED_NUM</th>\n",
       "      <th>TOTAL_NUM</th>\n",
       "      <th>FAILURE_RATE_PERCENTAGE</th>\n",
       "    </tr>\n",
       "  </thead>\n",
       "  <tbody>\n",
       "    <tr>\n",
       "      <th>0</th>\n",
       "      <td>2</td>\n",
       "      <td>1000</td>\n",
       "      <td>0.2</td>\n",
       "    </tr>\n",
       "  </tbody>\n",
       "</table>\n",
       "</div>"
      ],
      "text/plain": [
       "   FAILED_NUM  TOTAL_NUM  FAILURE_RATE_PERCENTAGE\n",
       "0           2       1000                      0.2"
      ]
     },
     "execution_count": 25,
     "metadata": {},
     "output_type": "execute_result"
    }
   ],
   "source": [
    "q6_query = f\"\"\"\n",
    "            WITH failure_customers AS (\n",
    "                SELECT \n",
    "                    u.user_id,\n",
    "                    COUNT(l.ledger_entry_id) AS usd_transaction_count\n",
    "                FROM \n",
    "                    COINBASE.PUBLIC.USERS u\n",
    "                JOIN \n",
    "                    COINBASE.PUBLIC.ACCOUNTS a ON u.user_id = a.user_id\n",
    "                JOIN \n",
    "                    COINBASE.PUBLIC.LEDGER l ON a.account_id = l.account_id\n",
    "                WHERE \n",
    "                    u.risk_score >= 50\n",
    "                    AND a.created_at > '2017-01-01'\n",
    "                    AND a.currency = 'USD'\n",
    "                GROUP BY \n",
    "                    u.user_id\n",
    "                HAVING \n",
    "                    usd_transaction_count > 2\n",
    "        )\n",
    "        SELECT \n",
    "            (SELECT COUNT(*) FROM failure_customers) AS failed_num,\n",
    "            (SELECT COUNT(*) FROM COINBASE.PUBLIC.USERS) AS total_num,\n",
    "            (failed_num / total_num) * 100 AS failure_rate_percentage;\n",
    "\n",
    "\"\"\"\n",
    "\n",
    "failed_test = get_sf_data(q6_query)\n",
    "failed_test"
   ]
  },
  {
   "cell_type": "markdown",
   "id": "997a2823",
   "metadata": {},
   "source": [
    "Per the calculation above, the failure percentage is 0.2%."
   ]
  },
  {
   "cell_type": "markdown",
   "id": "a7ef3bb9",
   "metadata": {},
   "source": [
    "### **Question 7**  \n",
    "Find a source of crypto prices online. Extract the price data and write a script that generates a corresponding table. Use the table to provide a time series for:  \n",
    "- The dollar value of all crypto assets in user accounts, i.e. what is the total value held in all wallets as a function of time.\n",
    "- The dollar value of assets flows in and out of user accounts, i.e. what is the net flow of value into or out of all accounts in aggregate."
   ]
  },
  {
   "cell_type": "code",
   "execution_count": 26,
   "id": "9c6ade2e-fcb3-4068-85a8-d5516066bf2d",
   "metadata": {},
   "outputs": [
    {
     "data": {
      "text/plain": [
       "'&api_key=639ef0f8b451f07328392747b6b25ea2dc79e27c2ea163d4ee60491198aa3ee6'"
      ]
     },
     "execution_count": 26,
     "metadata": {},
     "output_type": "execute_result"
    }
   ],
   "source": [
    "KEY = '639ef0f8b451f07328392747b6b25ea2dc79e27c2ea163d4ee60491198aa3ee6'\n",
    "\n",
    "cy.cryptocompare._set_api_key_parameter(KEY)\n"
   ]
  },
  {
   "cell_type": "code",
   "execution_count": 27,
   "id": "8bee1d63-bb50-47cf-b54a-b9c212234c29",
   "metadata": {},
   "outputs": [
    {
     "data": {
      "text/plain": [
       "{'BTC': {'USD': 62780.71}}"
      ]
     },
     "execution_count": 27,
     "metadata": {},
     "output_type": "execute_result"
    }
   ],
   "source": [
    "cy.get_price('BTC', currency='USD')\n"
   ]
  }
 ],
 "metadata": {
  "kernelspec": {
   "display_name": "Python 3",
   "language": "python",
   "name": "python3"
  },
  "language_info": {
   "codemirror_mode": {
    "name": "ipython",
    "version": 3
   },
   "file_extension": ".py",
   "mimetype": "text/x-python",
   "name": "python",
   "nbconvert_exporter": "python",
   "pygments_lexer": "ipython3",
   "version": "3.9.6"
  }
 },
 "nbformat": 4,
 "nbformat_minor": 5
}
