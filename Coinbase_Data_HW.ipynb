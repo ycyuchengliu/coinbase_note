{
 "cells": [
  {
   "cell_type": "code",
   "execution_count": 3,
   "id": "a4b18731-32ce-4fd4-bfa8-2d6da7841ed5",
   "metadata": {},
   "outputs": [
    {
     "name": "stdout",
     "output_type": "stream",
     "text": [
      "hello world\n",
      "good mroning!!!!!\n"
     ]
    }
   ],
   "source": [
    "print(\"hello world\")\n",
    "print(\"good mroning!!!!!\")"
   ]
  },
  {
   "cell_type": "markdown",
   "id": "4970e72c",
   "metadata": {},
   "source": [
    "# Coinbase Data Analyst Take Home Exam"
   ]
  },
  {
   "cell_type": "markdown",
   "id": "82ab7fba",
   "metadata": {},
   "source": [
    "- Yucheng Liu: <yc.yuchengliu@gmail.com>\n",
    "- October 2024"
   ]
  },
  {
   "cell_type": "markdown",
   "id": "3c807fff",
   "metadata": {},
   "source": [
    "## Abstract\n",
    "This project demonstrates key technical skills needed for a data analyst role at Coinbase Internal Audit. I utilized Snowflake (TBD add connector link) SQL to analyze datasets by joining and aggregating provided tables. Additionally, I used Python in Jupyter Notebook with libraries such as Pandas for data manipulation, and scatter plots to explore correlations in the data. I also integrated the [CryptoCompare API](https://pypi.org/project/cryptocompare/) to retrieve real-time cryptocurrency prices."
   ]
  },
  {
   "cell_type": "markdown",
   "id": "dc76ab46",
   "metadata": {},
   "source": [
    "## Github Repo\n",
    "\n",
    "In addition to this notebook, the project is also available in my repo. Please use the links below.\n",
    "- [Notebook tbd](xxx)\n",
    "- [SQL tbd](xxx)"
   ]
  },
  {
   "cell_type": "markdown",
   "id": "121122b1",
   "metadata": {},
   "source": [
    "## Datasets Used\n",
    "\n",
    "In this project, we use three distinct csv files containing data for the following:\n",
    "- **Users**, including an id, date the user signed up, and their risk score (a number assigned by our internal risk model).\n",
    "- **Accounts** for those users, including the date the account was created, and currency.\n",
    "- **Ledger** Entries for these accounts; these are single-entry, indicating the date and amount by which the account changed."
   ]
  },
  {
   "cell_type": "markdown",
   "id": "f5d42a60",
   "metadata": {},
   "source": [
    "#### Import Libraries"
   ]
  },
  {
   "cell_type": "code",
   "execution_count": 12,
   "id": "513e1e1e",
   "metadata": {},
   "outputs": [],
   "source": [
    "#!pip install pandas\n",
    "#!pip install matplotlib\n",
    "#!pip install cryptocompare\n",
    "#!pip install snowflake-connector-python"
   ]
  },
  {
   "cell_type": "code",
   "execution_count": 11,
   "id": "c5b41229",
   "metadata": {},
   "outputs": [],
   "source": [
    "import pandas as pd\n",
    "import snowflake.connector\n",
    "import matplotlib.pyplot as plt\n",
    "import cryptocompare as cy"
   ]
  },
  {
   "cell_type": "markdown",
   "id": "6031862b",
   "metadata": {},
   "source": [
    "#### Connect to Snowflake"
   ]
  },
  {
   "cell_type": "code",
   "execution_count": 3,
   "id": "dd5e6cc8",
   "metadata": {},
   "outputs": [
    {
     "name": "stdout",
     "output_type": "stream",
     "text": [
      "Snowflake Connected Successfully!\n"
     ]
    }
   ],
   "source": [
    "sf_pw = input('Enter Password:')\n",
    "\n",
    "con = snowflake.connector.connect(\n",
    "    user = 'yuchengliu',\n",
    "    password = sf_pw,\n",
    "    account = 'ed01722.us-east4.gcp',\n",
    "    warehouse = 'COMPUTE_WH'\n",
    ")\n",
    "con.cursor()\n",
    "print(\"Snowflake Connected Successfully!\")"
   ]
  },
  {
   "cell_type": "markdown",
   "id": "36d51268",
   "metadata": {},
   "source": [
    "#### Helper Function(s)"
   ]
  },
  {
   "cell_type": "code",
   "execution_count": 17,
   "id": "7e6ec0b3",
   "metadata": {},
   "outputs": [],
   "source": [
    "#get_sf_data function retrieves data from snowflake by executing a SQL query and returns the results in dataframe for analysis.\n",
    "def get_sf_data(query):\n",
    "    sql = query \n",
    "    output_df = pd.read_sql(sql, con)\n",
    "    return output_df"
   ]
  },
  {
   "cell_type": "markdown",
   "id": "bfe2c512",
   "metadata": {},
   "source": [
    "### Question 1  \n",
    "Draw an entity-relationship diagram for the data. Indicate the cardinality of the relationships."
   ]
  },
  {
   "cell_type": "markdown",
   "id": "34d9bbfc",
   "metadata": {},
   "source": [
    "![title](tbd)\n"
   ]
  },
  {
   "cell_type": "markdown",
   "id": "fd607853",
   "metadata": {},
   "source": [
    "### Question 2  \n",
    "Task: Load the CSV files into a SQL database."
   ]
  },
  {
   "cell_type": "markdown",
   "id": "273d3735",
   "metadata": {},
   "source": [
    "I created a free Snowflake account and uploaded the three CSV files. Below is a screenshot of the datasets after they were successfully loaded.\n",
    "\n",
    "| # | File Name | Snowflake Table Name\n",
    "|-----------------|-----------------|-----------------|\n",
    "| 1 | accounts.csv | COINBASE.PUBLIC.ACCOUNTS |\n",
    "| 2 | users.csv | COINBASE.PUBLIC.USERS |\n",
    "| 3 | ledger.csv | COINBASE.PUBLIC.LEDGER |"
   ]
  },
  {
   "cell_type": "markdown",
   "id": "c1d4ee3e",
   "metadata": {},
   "source": [
    "![title](screenshot_sf.png)"
   ]
  },
  {
   "cell_type": "markdown",
   "id": "e99b306f",
   "metadata": {},
   "source": [
    "### Question 3\n",
    "Calculate and plot the following distributions"
   ]
  },
  {
   "cell_type": "markdown",
   "id": "b4a018c9",
   "metadata": {},
   "source": [
    "a. Number of accounts per user"
   ]
  },
  {
   "cell_type": "code",
   "execution_count": 19,
   "id": "f99b97d7",
   "metadata": {},
   "outputs": [
    {
     "name": "stderr",
     "output_type": "stream",
     "text": [
      "/var/folders/4l/t9877gg17j99nd_pc56r_pq40000gn/T/ipykernel_24189/4219864176.py:4: UserWarning: pandas only supports SQLAlchemy connectable (engine/connection) or database string URI or sqlite3 DBAPI2 connection. Other DBAPI2 objects are not tested. Please consider using SQLAlchemy.\n",
      "  output_df = pd.read_sql(sql, con)\n"
     ]
    },
    {
     "data": {
      "text/html": [
       "<div>\n",
       "<style scoped>\n",
       "    .dataframe tbody tr th:only-of-type {\n",
       "        vertical-align: middle;\n",
       "    }\n",
       "\n",
       "    .dataframe tbody tr th {\n",
       "        vertical-align: top;\n",
       "    }\n",
       "\n",
       "    .dataframe thead th {\n",
       "        text-align: right;\n",
       "    }\n",
       "</style>\n",
       "<table border=\"1\" class=\"dataframe\">\n",
       "  <thead>\n",
       "    <tr style=\"text-align: right;\">\n",
       "      <th></th>\n",
       "      <th>USER_ID</th>\n",
       "      <th>NUMBER_OF_ACCOUNTS</th>\n",
       "    </tr>\n",
       "  </thead>\n",
       "  <tbody>\n",
       "    <tr>\n",
       "      <th>0</th>\n",
       "      <td>28c6d03ee715c3c6a69cd960ca404123</td>\n",
       "      <td>130</td>\n",
       "    </tr>\n",
       "    <tr>\n",
       "      <th>1</th>\n",
       "      <td>2728a6faf3a6de76ca9fcb456f583dc8</td>\n",
       "      <td>17</td>\n",
       "    </tr>\n",
       "    <tr>\n",
       "      <th>2</th>\n",
       "      <td>5867ac641fb362074ac1bc6dde7f0c5f</td>\n",
       "      <td>16</td>\n",
       "    </tr>\n",
       "    <tr>\n",
       "      <th>3</th>\n",
       "      <td>91c0fbdf1ce91ab3b175a5510f9a8a63</td>\n",
       "      <td>15</td>\n",
       "    </tr>\n",
       "    <tr>\n",
       "      <th>4</th>\n",
       "      <td>b200203a377aa50d31dd589ce5cc018f</td>\n",
       "      <td>12</td>\n",
       "    </tr>\n",
       "    <tr>\n",
       "      <th>...</th>\n",
       "      <td>...</td>\n",
       "      <td>...</td>\n",
       "    </tr>\n",
       "    <tr>\n",
       "      <th>995</th>\n",
       "      <td>4e67e06d8edcc76933da6097644fc410</td>\n",
       "      <td>2</td>\n",
       "    </tr>\n",
       "    <tr>\n",
       "      <th>996</th>\n",
       "      <td>27eb5c9d48b0664dc2bc52fe2d4cc4ea</td>\n",
       "      <td>2</td>\n",
       "    </tr>\n",
       "    <tr>\n",
       "      <th>997</th>\n",
       "      <td>60671fac32d64b059eda5fb53e187fc9</td>\n",
       "      <td>2</td>\n",
       "    </tr>\n",
       "    <tr>\n",
       "      <th>998</th>\n",
       "      <td>730cc3f3d7982f834d7e1b5108a2da10</td>\n",
       "      <td>2</td>\n",
       "    </tr>\n",
       "    <tr>\n",
       "      <th>999</th>\n",
       "      <td>870dbbb647523fbe19c4d1101af224ac</td>\n",
       "      <td>2</td>\n",
       "    </tr>\n",
       "  </tbody>\n",
       "</table>\n",
       "<p>1000 rows × 2 columns</p>\n",
       "</div>"
      ],
      "text/plain": [
       "                              USER_ID  NUMBER_OF_ACCOUNTS\n",
       "0    28c6d03ee715c3c6a69cd960ca404123                 130\n",
       "1    2728a6faf3a6de76ca9fcb456f583dc8                  17\n",
       "2    5867ac641fb362074ac1bc6dde7f0c5f                  16\n",
       "3    91c0fbdf1ce91ab3b175a5510f9a8a63                  15\n",
       "4    b200203a377aa50d31dd589ce5cc018f                  12\n",
       "..                                ...                 ...\n",
       "995  4e67e06d8edcc76933da6097644fc410                   2\n",
       "996  27eb5c9d48b0664dc2bc52fe2d4cc4ea                   2\n",
       "997  60671fac32d64b059eda5fb53e187fc9                   2\n",
       "998  730cc3f3d7982f834d7e1b5108a2da10                   2\n",
       "999  870dbbb647523fbe19c4d1101af224ac                   2\n",
       "\n",
       "[1000 rows x 2 columns]"
      ]
     },
     "execution_count": 19,
     "metadata": {},
     "output_type": "execute_result"
    }
   ],
   "source": [
    "q3_a_query = f\"\"\"\n",
    "        SELECT \n",
    "            u.user_id,\n",
    "            COUNT(a.account_id) AS number_of_accounts\n",
    "        FROM \n",
    "            COINBASE.PUBLIC.USERS u\n",
    "        LEFT JOIN \n",
    "            COINBASE.PUBLIC.ACCOUNTS a ON u.user_id = a.user_id\n",
    "        GROUP BY \n",
    "            1\n",
    "        ORDER BY \n",
    "            2 DESC;\n",
    "\"\"\"\n",
    "\n",
    "get_sf_data(q3_a_query)"
   ]
  },
  {
   "cell_type": "markdown",
   "id": "a7ef3bb9",
   "metadata": {},
   "source": [
    "### Question 7\n",
    " \n",
    "Find a source of crypto prices online. Extract the price data and write a script that generates a corresponding table. Use the table to provide a time series for:\n",
    "\n",
    "- The dollar value of all crypto assets in user accounts, i.e. what is the total value held in all wallets as a function of time.\n",
    "- The dollar value of assets flows in and out of user accounts, i.e. what is the net flow of value into or out of all accounts in aggregate."
   ]
  },
  {
   "cell_type": "code",
   "execution_count": 2,
   "id": "9c6ade2e-fcb3-4068-85a8-d5516066bf2d",
   "metadata": {},
   "outputs": [
    {
     "ename": "NameError",
     "evalue": "name 'cy' is not defined",
     "output_type": "error",
     "traceback": [
      "\u001b[0;31m---------------------------------------------------------------------------\u001b[0m",
      "\u001b[0;31mNameError\u001b[0m                                 Traceback (most recent call last)",
      "Cell \u001b[0;32mIn[2], line 3\u001b[0m\n\u001b[1;32m      1\u001b[0m KEY \u001b[38;5;241m=\u001b[39m \u001b[38;5;124m'\u001b[39m\u001b[38;5;124m639ef0f8b451f07328392747b6b25ea2dc79e27c2ea163d4ee60491198aa3ee6\u001b[39m\u001b[38;5;124m'\u001b[39m\n\u001b[0;32m----> 3\u001b[0m \u001b[43mcy\u001b[49m\u001b[38;5;241m.\u001b[39mcryptocompare\u001b[38;5;241m.\u001b[39m_set_api_key_parameter(KEY)\n",
      "\u001b[0;31mNameError\u001b[0m: name 'cy' is not defined"
     ]
    }
   ],
   "source": [
    "KEY = '639ef0f8b451f07328392747b6b25ea2dc79e27c2ea163d4ee60491198aa3ee6'\n",
    "\n",
    "cy.cryptocompare._set_api_key_parameter(KEY)\n"
   ]
  },
  {
   "cell_type": "code",
   "execution_count": 7,
   "id": "8bee1d63-bb50-47cf-b54a-b9c212234c29",
   "metadata": {},
   "outputs": [
    {
     "data": {
      "text/plain": [
       "{'BTC': {'USD': 59211.99}}"
      ]
     },
     "execution_count": 7,
     "metadata": {},
     "output_type": "execute_result"
    }
   ],
   "source": [
    "cy.get_price('BTC', currency='USD')\n"
   ]
  },
  {
   "cell_type": "code",
   "execution_count": null,
   "id": "7b0825a9-15a8-4151-9086-36808e6ef405",
   "metadata": {},
   "outputs": [],
   "source": []
  }
 ],
 "metadata": {
  "kernelspec": {
   "display_name": "Python 3",
   "language": "python",
   "name": "python3"
  },
  "language_info": {
   "codemirror_mode": {
    "name": "ipython",
    "version": 3
   },
   "file_extension": ".py",
   "mimetype": "text/x-python",
   "name": "python",
   "nbconvert_exporter": "python",
   "pygments_lexer": "ipython3",
   "version": "3.9.6"
  }
 },
 "nbformat": 4,
 "nbformat_minor": 5
}
