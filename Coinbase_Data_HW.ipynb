{
 "cells": [
  {
   "cell_type": "code",
   "execution_count": 3,
   "id": "a4b18731-32ce-4fd4-bfa8-2d6da7841ed5",
   "metadata": {},
   "outputs": [
    {
     "name": "stdout",
     "output_type": "stream",
     "text": [
      "hello world\n",
      "good mroning!!!!!\n"
     ]
    }
   ],
   "source": [
    "print(\"hello world\")\n",
    "print(\"good mroning!!!!!!ß\")"
   ]
  },
  {
   "cell_type": "markdown",
   "id": "4970e72c",
   "metadata": {},
   "source": [
    "# Coinbase Data Analyst Take Home Exam"
   ]
  },
  {
   "cell_type": "markdown",
   "id": "82ab7fba",
   "metadata": {},
   "source": [
    "- Yucheng Liu: <yc.yuchengliu@gmail.com>\n",
    "- October 2024"
   ]
  },
  {
   "cell_type": "markdown",
   "id": "3c807fff",
   "metadata": {},
   "source": [
    "## Abstract\n",
    "This project demonstrates key technical skills needed for a data analyst role at Coinbase Internal Audit. I utilized Snowflake (TBD add connector link) SQL to analyze datasets by joining and aggregating provided tables. Additionally, I used Python in Jupyter Notebook with libraries such as Pandas for data manipulation, and scatter plots to explore correlations in the data. I also integrated the [CryptoCompare API](https://pypi.org/project/cryptocompare/) to retrieve real-time cryptocurrency prices."
   ]
  },
  {
   "cell_type": "markdown",
   "id": "dc76ab46",
   "metadata": {},
   "source": [
    "## Github Repo\n",
    "\n",
    "In addition to this notebook, the project is also available in my repo. Please use the links below.\n",
    "- [Notebook tbd](xxx)\n",
    "- [SQL tbd](xxx)"
   ]
  },
  {
   "cell_type": "markdown",
   "id": "121122b1",
   "metadata": {},
   "source": [
    "## Datasets Used\n",
    "\n",
    "In this project, we use three distinct csv files containing data for the following:\n",
    "- **Users**, including an id, date the user signed up, and their risk score (a number assigned by our internal risk model).\n",
    "- **Accounts** for those users, including the date the account was created, and currency.\n",
    "- **Ledger** Entries for these accounts; these are single-entry, indicating the date and amount by which the account changed."
   ]
  },
  {
   "cell_type": "markdown",
   "id": "f5d42a60",
   "metadata": {},
   "source": [
    "#### Import Libraries"
   ]
  },
  {
   "cell_type": "code",
   "execution_count": 12,
   "id": "513e1e1e",
   "metadata": {},
   "outputs": [],
   "source": [
    "#!pip install pandas\n",
    "#!pip install matplotlib\n",
    "#!pip install cryptocompare\n",
    "#!pip install snowflake-connector-python\n",
    "#!pip install seaborn"
   ]
  },
  {
   "cell_type": "code",
   "execution_count": 31,
   "id": "c5b41229",
   "metadata": {},
   "outputs": [],
   "source": [
    "import pandas as pd\n",
    "import snowflake.connector\n",
    "import matplotlib.pyplot as plt\n",
    "import cryptocompare as cy\n",
    "import seaborn as sns "
   ]
  },
  {
   "cell_type": "markdown",
   "id": "6031862b",
   "metadata": {},
   "source": [
    "#### Connect to Snowflake"
   ]
  },
  {
   "cell_type": "code",
   "execution_count": 3,
   "id": "dd5e6cc8",
   "metadata": {},
   "outputs": [
    {
     "name": "stdout",
     "output_type": "stream",
     "text": [
      "Snowflake Connected Successfully!\n"
     ]
    }
   ],
   "source": [
    "sf_pw = input('Enter Password:')\n",
    "\n",
    "con = snowflake.connector.connect(\n",
    "    user = 'yuchengliu',\n",
    "    password = sf_pw,\n",
    "    account = 'ed01722.us-east4.gcp',\n",
    "    warehouse = 'COMPUTE_WH'\n",
    ")\n",
    "con.cursor()\n",
    "print(\"Snowflake Connected Successfully!\")"
   ]
  },
  {
   "cell_type": "markdown",
   "id": "36d51268",
   "metadata": {},
   "source": [
    "#### Helper Function(s)"
   ]
  },
  {
   "cell_type": "code",
   "execution_count": 47,
   "id": "7e6ec0b3",
   "metadata": {},
   "outputs": [],
   "source": [
    "#get_sf_data function retrieves data from snowflake by executing a SQL query and returns the results in dataframe for analysis.\n",
    "def get_sf_data(query):\n",
    "    sql = query \n",
    "    output_df = pd.read_sql(sql, con)\n",
    "    return output_df\n",
    "\n",
    "def get_simple_plot(dataframe_column, title, x_lable, y_lable):\n",
    "    plt.figure(figsize=(8, 4))\n",
    "    sns.histplot(dataframe_column, binwidth=1)\n",
    "    plt.title(title)\n",
    "    plt.xlabel(x_lable)\n",
    "    plt.ylabel(y_lable)\n",
    "    plt.show()"
   ]
  },
  {
   "cell_type": "markdown",
   "id": "bfe2c512",
   "metadata": {},
   "source": [
    "### Question 1  \n",
    "**Task: Draw an entity-relationship diagram for the data. Indicate the cardinality of the relationships.**"
   ]
  },
  {
   "cell_type": "markdown",
   "id": "34d9bbfc",
   "metadata": {},
   "source": [
    "![title](tbd)\n"
   ]
  },
  {
   "cell_type": "markdown",
   "id": "fd607853",
   "metadata": {},
   "source": [
    "### Question 2  \n",
    "**Task: Load the CSV files into a SQL database.**"
   ]
  },
  {
   "cell_type": "markdown",
   "id": "273d3735",
   "metadata": {},
   "source": [
    "I created a free Snowflake account and uploaded the three CSV files. Below is a screenshot of the datasets after they were successfully loaded.  \n",
    "\n",
    "| # | File Name | Snowflake Table Name\n",
    "|-----------------|-----------------|-----------------|\n",
    "| 1 | accounts.csv | COINBASE.PUBLIC.ACCOUNTS |\n",
    "| 2 | users.csv | COINBASE.PUBLIC.USERS |\n",
    "| 3 | ledger.csv | COINBASE.PUBLIC.LEDGER |"
   ]
  },
  {
   "cell_type": "markdown",
   "metadata": {},
   "source": [
    "![title](screenshot_sf.png)"
   ]
  },
  {
   "cell_type": "markdown",
   "id": "e99b306f",
   "metadata": {},
   "source": [
    "### Question 3\n",
    "**Task: Calculate and plot the following distributions**\n",
    "\n",
    "a. Number of accounts per user"
   ]
  },
  {
   "cell_type": "code",
   "execution_count": 38,
   "id": "f99b97d7",
   "metadata": {},
   "outputs": [
    {
     "name": "stderr",
     "output_type": "stream",
     "text": [
      "/var/folders/4l/t9877gg17j99nd_pc56r_pq40000gn/T/ipykernel_24189/4219864176.py:4: UserWarning: pandas only supports SQLAlchemy connectable (engine/connection) or database string URI or sqlite3 DBAPI2 connection. Other DBAPI2 objects are not tested. Please consider using SQLAlchemy.\n",
      "  output_df = pd.read_sql(sql, con)\n"
     ]
    },
    {
     "data": {
      "text/html": [
       "<div>\n",
       "<style scoped>\n",
       "    .dataframe tbody tr th:only-of-type {\n",
       "        vertical-align: middle;\n",
       "    }\n",
       "\n",
       "    .dataframe tbody tr th {\n",
       "        vertical-align: top;\n",
       "    }\n",
       "\n",
       "    .dataframe thead th {\n",
       "        text-align: right;\n",
       "    }\n",
       "</style>\n",
       "<table border=\"1\" class=\"dataframe\">\n",
       "  <thead>\n",
       "    <tr style=\"text-align: right;\">\n",
       "      <th></th>\n",
       "      <th>USER_ID</th>\n",
       "      <th>NUMBER_OF_ACCOUNTS</th>\n",
       "    </tr>\n",
       "  </thead>\n",
       "  <tbody>\n",
       "    <tr>\n",
       "      <th>0</th>\n",
       "      <td>28c6d03ee715c3c6a69cd960ca404123</td>\n",
       "      <td>130</td>\n",
       "    </tr>\n",
       "    <tr>\n",
       "      <th>1</th>\n",
       "      <td>2728a6faf3a6de76ca9fcb456f583dc8</td>\n",
       "      <td>17</td>\n",
       "    </tr>\n",
       "    <tr>\n",
       "      <th>2</th>\n",
       "      <td>5867ac641fb362074ac1bc6dde7f0c5f</td>\n",
       "      <td>16</td>\n",
       "    </tr>\n",
       "    <tr>\n",
       "      <th>3</th>\n",
       "      <td>91c0fbdf1ce91ab3b175a5510f9a8a63</td>\n",
       "      <td>15</td>\n",
       "    </tr>\n",
       "    <tr>\n",
       "      <th>4</th>\n",
       "      <td>b200203a377aa50d31dd589ce5cc018f</td>\n",
       "      <td>12</td>\n",
       "    </tr>\n",
       "    <tr>\n",
       "      <th>5</th>\n",
       "      <td>c1942d1b8570cb346c3b55f28e0ddad5</td>\n",
       "      <td>11</td>\n",
       "    </tr>\n",
       "    <tr>\n",
       "      <th>6</th>\n",
       "      <td>bbb45a52e1a3bc9ac178a907c57d555b</td>\n",
       "      <td>11</td>\n",
       "    </tr>\n",
       "    <tr>\n",
       "      <th>7</th>\n",
       "      <td>8e9379e729b4439c32f81dec2f2fa569</td>\n",
       "      <td>10</td>\n",
       "    </tr>\n",
       "    <tr>\n",
       "      <th>8</th>\n",
       "      <td>a00acd0117e6cccfade7a09c65cbe204</td>\n",
       "      <td>10</td>\n",
       "    </tr>\n",
       "    <tr>\n",
       "      <th>9</th>\n",
       "      <td>9d5ca06f5661dbf5324f4aba3e509e9d</td>\n",
       "      <td>9</td>\n",
       "    </tr>\n",
       "  </tbody>\n",
       "</table>\n",
       "</div>"
      ],
      "text/plain": [
       "                            USER_ID  NUMBER_OF_ACCOUNTS\n",
       "0  28c6d03ee715c3c6a69cd960ca404123                 130\n",
       "1  2728a6faf3a6de76ca9fcb456f583dc8                  17\n",
       "2  5867ac641fb362074ac1bc6dde7f0c5f                  16\n",
       "3  91c0fbdf1ce91ab3b175a5510f9a8a63                  15\n",
       "4  b200203a377aa50d31dd589ce5cc018f                  12\n",
       "5  c1942d1b8570cb346c3b55f28e0ddad5                  11\n",
       "6  bbb45a52e1a3bc9ac178a907c57d555b                  11\n",
       "7  8e9379e729b4439c32f81dec2f2fa569                  10\n",
       "8  a00acd0117e6cccfade7a09c65cbe204                  10\n",
       "9  9d5ca06f5661dbf5324f4aba3e509e9d                   9"
      ]
     },
     "execution_count": 38,
     "metadata": {},
     "output_type": "execute_result"
    }
   ],
   "source": [
    "#The query counts the number of accounts for each user. We use LEFT JOIN here to ensure that uses with 0 accounts are also included.\n",
    "q3_a_query = f\"\"\"\n",
    "        SELECT \n",
    "            u.user_id,\n",
    "            COUNT(a.account_id) AS number_of_accounts\n",
    "        FROM COINBASE.PUBLIC.USERS u\n",
    "        LEFT JOIN COINBASE.PUBLIC.ACCOUNTS a ON u.user_id = a.user_id\n",
    "        GROUP BY 1\n",
    "        ORDER BY 2 DESC;\n",
    "\"\"\"\n",
    "\n",
    "#once the query is built, we can call get_sf_data function to retreive data in dataframe format.\n",
    "number_of_account_per_user = get_sf_data(q3_a_query)\n",
    "number_of_account_per_user.head(10)"
   ]
  },
  {
   "cell_type": "code",
   "execution_count": 39,
   "id": "4e3f6a57",
   "metadata": {},
   "outputs": [
    {
     "data": {
      "text/plain": [
       "count    1000.0000\n",
       "mean        4.7110\n",
       "std         4.1534\n",
       "min         2.0000\n",
       "25%         4.0000\n",
       "50%         4.0000\n",
       "75%         5.0000\n",
       "max       130.0000\n",
       "Name: NUMBER_OF_ACCOUNTS, dtype: float64"
      ]
     },
     "execution_count": 39,
     "metadata": {},
     "output_type": "execute_result"
    }
   ],
   "source": [
    "number_of_account_per_user['NUMBER_OF_ACCOUNTS'].describe()"
   ]
  },
  {
   "cell_type": "code",
   "execution_count": 40,
   "id": "58381364",
   "metadata": {},
   "outputs": [
    {
     "data": {
      "image/png": "[encoded data removed]",
      "text/plain": [
       "<Figure size 800x400 with 1 Axes>"
      ]
     },
     "metadata": {},
     "output_type": "display_data"
    }
   ],
   "source": [
    "plt.figure(figsize=(8, 4))\n",
    "sns.histplot(number_of_account_per_user['NUMBER_OF_ACCOUNTS'], kde=True, binwidth=1)\n",
    "plt.title('Number of Accounts per User')\n",
    "plt.xlabel('Number of Accounts')\n",
    "plt.ylabel('Number of Users')\n",
    "plt.show()"
   ]
  },
  {
   "cell_type": "markdown",
   "id": "9f21747a",
   "metadata": {},
   "source": [
    "Looking at the number of accounts per user plot above, we can make a few observations:\n",
    "\n",
    "- Most users tend to have around 4 to 5 accounts, with a median of 4 accounts.  \n",
    "- The average number of accounts per user is about 4.71, but there's significant variation in account ownership, with the highest being 130 accounts.  \n",
    "- Most users have a small to moderate number of accounts, but there are some outliers with many accounts."
   ]
  },
  {
   "cell_type": "markdown",
   "id": "cb7c79ce",
   "metadata": {},
   "source": [
    "b. Number of distinct currencies per user."
   ]
  },
  {
   "cell_type": "code",
   "execution_count": 43,
   "id": "98a7cdae",
   "metadata": {},
   "outputs": [
    {
     "name": "stderr",
     "output_type": "stream",
     "text": [
      "/var/folders/4l/t9877gg17j99nd_pc56r_pq40000gn/T/ipykernel_24189/3099901780.py:4: UserWarning: pandas only supports SQLAlchemy connectable (engine/connection) or database string URI or sqlite3 DBAPI2 connection. Other DBAPI2 objects are not tested. Please consider using SQLAlchemy.\n",
      "  output_df = pd.read_sql(sql, con)\n"
     ]
    },
    {
     "data": {
      "text/html": [
       "<div>\n",
       "<style scoped>\n",
       "    .dataframe tbody tr th:only-of-type {\n",
       "        vertical-align: middle;\n",
       "    }\n",
       "\n",
       "    .dataframe tbody tr th {\n",
       "        vertical-align: top;\n",
       "    }\n",
       "\n",
       "    .dataframe thead th {\n",
       "        text-align: right;\n",
       "    }\n",
       "</style>\n",
       "<table border=\"1\" class=\"dataframe\">\n",
       "  <thead>\n",
       "    <tr style=\"text-align: right;\">\n",
       "      <th></th>\n",
       "      <th>USER_ID</th>\n",
       "      <th>NUMBER_OF_DISTINCT_CURRENCIES</th>\n",
       "    </tr>\n",
       "  </thead>\n",
       "  <tbody>\n",
       "    <tr>\n",
       "      <th>0</th>\n",
       "      <td>befbddf34f71095d3fe49efd79a8996e</td>\n",
       "      <td>5</td>\n",
       "    </tr>\n",
       "    <tr>\n",
       "      <th>1</th>\n",
       "      <td>849b234ec990304fb126b8f5c4d80662</td>\n",
       "      <td>5</td>\n",
       "    </tr>\n",
       "    <tr>\n",
       "      <th>2</th>\n",
       "      <td>48cc9779135b57b6a8d4052e93bb843a</td>\n",
       "      <td>5</td>\n",
       "    </tr>\n",
       "    <tr>\n",
       "      <th>3</th>\n",
       "      <td>9809ea41344fe457cdf908e5c55562b4</td>\n",
       "      <td>5</td>\n",
       "    </tr>\n",
       "    <tr>\n",
       "      <th>4</th>\n",
       "      <td>e32a56807ab3e71bb5e07f7ffc8c5174</td>\n",
       "      <td>5</td>\n",
       "    </tr>\n",
       "    <tr>\n",
       "      <th>5</th>\n",
       "      <td>c8691d1c60e9537da42e187170ab369f</td>\n",
       "      <td>5</td>\n",
       "    </tr>\n",
       "    <tr>\n",
       "      <th>6</th>\n",
       "      <td>6b2f573b84f1cb31d3d6031016816d43</td>\n",
       "      <td>5</td>\n",
       "    </tr>\n",
       "    <tr>\n",
       "      <th>7</th>\n",
       "      <td>083743fdb35ded42d3b6cd68e2d3fa68</td>\n",
       "      <td>5</td>\n",
       "    </tr>\n",
       "    <tr>\n",
       "      <th>8</th>\n",
       "      <td>e860c1f7ee8c4ac2d1d1b060c93b2b44</td>\n",
       "      <td>5</td>\n",
       "    </tr>\n",
       "    <tr>\n",
       "      <th>9</th>\n",
       "      <td>8a769296f770704d32e2b754a29d85ea</td>\n",
       "      <td>5</td>\n",
       "    </tr>\n",
       "  </tbody>\n",
       "</table>\n",
       "</div>"
      ],
      "text/plain": [
       "                            USER_ID  NUMBER_OF_DISTINCT_CURRENCIES\n",
       "0  befbddf34f71095d3fe49efd79a8996e                              5\n",
       "1  849b234ec990304fb126b8f5c4d80662                              5\n",
       "2  48cc9779135b57b6a8d4052e93bb843a                              5\n",
       "3  9809ea41344fe457cdf908e5c55562b4                              5\n",
       "4  e32a56807ab3e71bb5e07f7ffc8c5174                              5\n",
       "5  c8691d1c60e9537da42e187170ab369f                              5\n",
       "6  6b2f573b84f1cb31d3d6031016816d43                              5\n",
       "7  083743fdb35ded42d3b6cd68e2d3fa68                              5\n",
       "8  e860c1f7ee8c4ac2d1d1b060c93b2b44                              5\n",
       "9  8a769296f770704d32e2b754a29d85ea                              5"
      ]
     },
     "execution_count": 43,
     "metadata": {},
     "output_type": "execute_result"
    }
   ],
   "source": [
    "q3_b_query = f\"\"\"\n",
    "            SELECT u.user_id,\n",
    "                COUNT(DISTINCT(a.currency)) AS number_of_distinct_currencies\n",
    "            FROM COINBASE.PUBLIC.USERS u\n",
    "            LEFT JOIN COINBASE.PUBLIC.ACCOUNTS a ON u.user_id = a.user_id\n",
    "            GROUP BY 1\n",
    "            ORDER BY 2 DESC;\n",
    "\"\"\"\n",
    "\n",
    "number_of_currency_per_user = get_sf_data(q3_b_query)\n",
    "number_of_currency_per_user.head(10)"
   ]
  },
  {
   "cell_type": "code",
   "execution_count": 45,
   "id": "f6d6ee7c",
   "metadata": {},
   "outputs": [
    {
     "data": {
      "text/plain": [
       "count    1000.000000\n",
       "mean        3.371000\n",
       "std         0.712648\n",
       "min         2.000000\n",
       "25%         3.000000\n",
       "50%         3.000000\n",
       "75%         4.000000\n",
       "max         5.000000\n",
       "Name: NUMBER_OF_DISTINCT_CURRENCIES, dtype: float64"
      ]
     },
     "execution_count": 45,
     "metadata": {},
     "output_type": "execute_result"
    }
   ],
   "source": [
    "number_of_currency_per_user['NUMBER_OF_DISTINCT_CURRENCIES'].describe()"
   ]
  },
  {
   "cell_type": "code",
   "execution_count": 48,
   "id": "101d5020",
   "metadata": {},
   "outputs": [
    {
     "data": {
      "image/png": "[encoded data removed]",
      "text/plain": [
       "<Figure size 800x400 with 1 Axes>"
      ]
     },
     "metadata": {},
     "output_type": "display_data"
    }
   ],
   "source": [
    "get_simple_plot(number_of_currency_per_user['NUMBER_OF_DISTINCT_CURRENCIES'], 'Number of Distinct Currencies per User', 'Number of Currencies', 'Number of Users')"
   ]
  },
  {
   "cell_type": "markdown",
   "id": "a7ef3bb9",
   "metadata": {},
   "source": [
    "### Question 7\n",
    " \n",
    "Find a source of crypto prices online. Extract the price data and write a script that generates a corresponding table. Use the table to provide a time series for:\n",
    "\n",
    "- The dollar value of all crypto assets in user accounts, i.e. what is the total value held in all wallets as a function of time.\n",
    "- The dollar value of assets flows in and out of user accounts, i.e. what is the net flow of value into or out of all accounts in aggregate."
   ]
  },
  {
   "cell_type": "code",
   "execution_count": 2,
   "id": "9c6ade2e-fcb3-4068-85a8-d5516066bf2d",
   "metadata": {},
   "outputs": [
    {
     "ename": "NameError",
     "evalue": "name 'cy' is not defined",
     "output_type": "error",
     "traceback": [
      "\u001b[0;31m---------------------------------------------------------------------------\u001b[0m",
      "\u001b[0;31mNameError\u001b[0m                                 Traceback (most recent call last)",
      "Cell \u001b[0;32mIn[2], line 3\u001b[0m\n\u001b[1;32m      1\u001b[0m KEY \u001b[38;5;241m=\u001b[39m \u001b[38;5;124m'\u001b[39m\u001b[38;5;124m639ef0f8b451f07328392747b6b25ea2dc79e27c2ea163d4ee60491198aa3ee6\u001b[39m\u001b[38;5;124m'\u001b[39m\n\u001b[0;32m----> 3\u001b[0m \u001b[43mcy\u001b[49m\u001b[38;5;241m.\u001b[39mcryptocompare\u001b[38;5;241m.\u001b[39m_set_api_key_parameter(KEY)\n",
      "\u001b[0;31mNameError\u001b[0m: name 'cy' is not defined"
     ]
    }
   ],
   "source": [
    "KEY = '639ef0f8b451f07328392747b6b25ea2dc79e27c2ea163d4ee60491198aa3ee6'\n",
    "\n",
    "cy.cryptocompare._set_api_key_parameter(KEY)\n"
   ]
  },
  {
   "cell_type": "code",
   "execution_count": 7,
   "id": "8bee1d63-bb50-47cf-b54a-b9c212234c29",
   "metadata": {},
   "outputs": [
    {
     "data": {
      "text/plain": [
       "{'BTC': {'USD': 59211.99}}"
      ]
     },
     "execution_count": 7,
     "metadata": {},
     "output_type": "execute_result"
    }
   ],
   "source": [
    "cy.get_price('BTC', currency='USD')\n"
   ]
  },
  {
   "cell_type": "code",
   "execution_count": null,
   "id": "7b0825a9-15a8-4151-9086-36808e6ef405",
   "metadata": {},
   "outputs": [],
   "source": []
  }
 ],
 "metadata": {
  "kernelspec": {
   "display_name": "Python 3",
   "language": "python",
   "name": "python3"
  },
  "language_info": {
   "codemirror_mode": {
    "name": "ipython",
    "version": 3
   },
   "file_extension": ".py",
   "mimetype": "text/x-python",
   "name": "python",
   "nbconvert_exporter": "python",
   "pygments_lexer": "ipython3",
   "version": "3.9.6"
  }
 },
 "nbformat": 4,
 "nbformat_minor": 5
}
